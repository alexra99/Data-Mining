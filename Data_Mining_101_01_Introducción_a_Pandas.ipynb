{
  "nbformat": 4,
  "nbformat_minor": 0,
  "metadata": {
    "colab": {
      "name": "Data Mining 101 - 01 - Introducción a Pandas.ipynb",
      "provenance": [],
      "collapsed_sections": [],
      "include_colab_link": true
    },
    "kernelspec": {
      "name": "python3",
      "display_name": "Python 3"
    }
  },
  "cells": [
    {
      "cell_type": "markdown",
      "metadata": {
        "id": "view-in-github",
        "colab_type": "text"
      },
      "source": [
        "<a href=\"https://colab.research.google.com/github/alexra99/Data-Mining/blob/main/Data_Mining_101_01_Introducci%C3%B3n_a_Pandas.ipynb\" target=\"_parent\"><img src=\"https://colab.research.google.com/assets/colab-badge.svg\" alt=\"Open In Colab\"/></a>"
      ]
    },
    {
      "cell_type": "markdown",
      "metadata": {
        "id": "8GlokTfTPD94"
      },
      "source": [
        "# Comenzando a manejar Pandas\n",
        "\n",
        "\n",
        "Vamos a comenzar por los datos que nos proporciona una competición de DrivenData \n",
        "\n",
        "[Warm Up: Machine Learning with a Heart](https://www.drivendata.org/competitions/54/machine-learning-with-a-heart/)\n",
        "\n",
        "El conjunto de datos es un clásico del aprendizaje automático. Procede de un estudio de enfermedades cardíacas realizado hace 30 años. \n",
        "\n",
        "El estudio, convenientemente anonimizado,  recoge varias mediciones sobre la salud de los pacientes y las estadísticas cardiovasculares.\n",
        "\n",
        "\n",
        "En primer lugar vamos a estudiar el conjunto de entrenamiento que facilita la competición en este [link](https://www.drivendata.org/competitions/54/machine-learning-with-a-heart/data/) (Previa participación en la misma) o mediante el uso del siguiente [enlace](https://drive.google.com/drive/folders/1NfqnfLQqM-gJu5dh0hAhMURO-7_uDHdK?usp=sharing)\n",
        "\n",
        "\n"
      ]
    },
    {
      "cell_type": "markdown",
      "metadata": {
        "id": "SMsPuAZmQlnF"
      },
      "source": [
        "## Cargando los datos\n",
        "\n",
        "En primer lugar leeremos los datos de conjunto de datos de entrenamiento (*train_values.csv*)utilizando las librerías  propias de Google Colab y posteriormente la librería de Python Pandas\n",
        "\n"
      ]
    },
    {
      "cell_type": "code",
      "metadata": {
        "id": "BaaN9uh6OoDe",
        "colab": {
          "resources": {
            "http://localhost:8080/nbextensions/google.colab/files.js": {
              "data": "Ly8gQ29weXJpZ2h0IDIwMTcgR29vZ2xlIExMQwovLwovLyBMaWNlbnNlZCB1bmRlciB0aGUgQXBhY2hlIExpY2Vuc2UsIFZlcnNpb24gMi4wICh0aGUgIkxpY2Vuc2UiKTsKLy8geW91IG1heSBub3QgdXNlIHRoaXMgZmlsZSBleGNlcHQgaW4gY29tcGxpYW5jZSB3aXRoIHRoZSBMaWNlbnNlLgovLyBZb3UgbWF5IG9idGFpbiBhIGNvcHkgb2YgdGhlIExpY2Vuc2UgYXQKLy8KLy8gICAgICBodHRwOi8vd3d3LmFwYWNoZS5vcmcvbGljZW5zZXMvTElDRU5TRS0yLjAKLy8KLy8gVW5sZXNzIHJlcXVpcmVkIGJ5IGFwcGxpY2FibGUgbGF3IG9yIGFncmVlZCB0byBpbiB3cml0aW5nLCBzb2Z0d2FyZQovLyBkaXN0cmlidXRlZCB1bmRlciB0aGUgTGljZW5zZSBpcyBkaXN0cmlidXRlZCBvbiBhbiAiQVMgSVMiIEJBU0lTLAovLyBXSVRIT1VUIFdBUlJBTlRJRVMgT1IgQ09ORElUSU9OUyBPRiBBTlkgS0lORCwgZWl0aGVyIGV4cHJlc3Mgb3IgaW1wbGllZC4KLy8gU2VlIHRoZSBMaWNlbnNlIGZvciB0aGUgc3BlY2lmaWMgbGFuZ3VhZ2UgZ292ZXJuaW5nIHBlcm1pc3Npb25zIGFuZAovLyBsaW1pdGF0aW9ucyB1bmRlciB0aGUgTGljZW5zZS4KCi8qKgogKiBAZmlsZW92ZXJ2aWV3IEhlbHBlcnMgZm9yIGdvb2dsZS5jb2xhYiBQeXRob24gbW9kdWxlLgogKi8KKGZ1bmN0aW9uKHNjb3BlKSB7CmZ1bmN0aW9uIHNwYW4odGV4dCwgc3R5bGVBdHRyaWJ1dGVzID0ge30pIHsKICBjb25zdCBlbGVtZW50ID0gZG9jdW1lbnQuY3JlYXRlRWxlbWVudCgnc3BhbicpOwogIGVsZW1lbnQudGV4dENvbnRlbnQgPSB0ZXh0OwogIGZvciAoY29uc3Qga2V5IG9mIE9iamVjdC5rZXlzKHN0eWxlQXR0cmlidXRlcykpIHsKICAgIGVsZW1lbnQuc3R5bGVba2V5XSA9IHN0eWxlQXR0cmlidXRlc1trZXldOwogIH0KICByZXR1cm4gZWxlbWVudDsKfQoKLy8gTWF4IG51bWJlciBvZiBieXRlcyB3aGljaCB3aWxsIGJlIHVwbG9hZGVkIGF0IGEgdGltZS4KY29uc3QgTUFYX1BBWUxPQURfU0laRSA9IDEwMCAqIDEwMjQ7CgpmdW5jdGlvbiBfdXBsb2FkRmlsZXMoaW5wdXRJZCwgb3V0cHV0SWQpIHsKICBjb25zdCBzdGVwcyA9IHVwbG9hZEZpbGVzU3RlcChpbnB1dElkLCBvdXRwdXRJZCk7CiAgY29uc3Qgb3V0cHV0RWxlbWVudCA9IGRvY3VtZW50LmdldEVsZW1lbnRCeUlkKG91dHB1dElkKTsKICAvLyBDYWNoZSBzdGVwcyBvbiB0aGUgb3V0cHV0RWxlbWVudCB0byBtYWtlIGl0IGF2YWlsYWJsZSBmb3IgdGhlIG5leHQgY2FsbAogIC8vIHRvIHVwbG9hZEZpbGVzQ29udGludWUgZnJvbSBQeXRob24uCiAgb3V0cHV0RWxlbWVudC5zdGVwcyA9IHN0ZXBzOwoKICByZXR1cm4gX3VwbG9hZEZpbGVzQ29udGludWUob3V0cHV0SWQpOwp9CgovLyBUaGlzIGlzIHJvdWdobHkgYW4gYXN5bmMgZ2VuZXJhdG9yIChub3Qgc3VwcG9ydGVkIGluIHRoZSBicm93c2VyIHlldCksCi8vIHdoZXJlIHRoZXJlIGFyZSBtdWx0aXBsZSBhc3luY2hyb25vdXMgc3RlcHMgYW5kIHRoZSBQeXRob24gc2lkZSBpcyBnb2luZwovLyB0byBwb2xsIGZvciBjb21wbGV0aW9uIG9mIGVhY2ggc3RlcC4KLy8gVGhpcyB1c2VzIGEgUHJvbWlzZSB0byBibG9jayB0aGUgcHl0aG9uIHNpZGUgb24gY29tcGxldGlvbiBvZiBlYWNoIHN0ZXAsCi8vIHRoZW4gcGFzc2VzIHRoZSByZXN1bHQgb2YgdGhlIHByZXZpb3VzIHN0ZXAgYXMgdGhlIGlucHV0IHRvIHRoZSBuZXh0IHN0ZXAuCmZ1bmN0aW9uIF91cGxvYWRGaWxlc0NvbnRpbnVlKG91dHB1dElkKSB7CiAgY29uc3Qgb3V0cHV0RWxlbWVudCA9IGRvY3VtZW50LmdldEVsZW1lbnRCeUlkKG91dHB1dElkKTsKICBjb25zdCBzdGVwcyA9IG91dHB1dEVsZW1lbnQuc3RlcHM7CgogIGNvbnN0IG5leHQgPSBzdGVwcy5uZXh0KG91dHB1dEVsZW1lbnQubGFzdFByb21pc2VWYWx1ZSk7CiAgcmV0dXJuIFByb21pc2UucmVzb2x2ZShuZXh0LnZhbHVlLnByb21pc2UpLnRoZW4oKHZhbHVlKSA9PiB7CiAgICAvLyBDYWNoZSB0aGUgbGFzdCBwcm9taXNlIHZhbHVlIHRvIG1ha2UgaXQgYXZhaWxhYmxlIHRvIHRoZSBuZXh0CiAgICAvLyBzdGVwIG9mIHRoZSBnZW5lcmF0b3IuCiAgICBvdXRwdXRFbGVtZW50Lmxhc3RQcm9taXNlVmFsdWUgPSB2YWx1ZTsKICAgIHJldHVybiBuZXh0LnZhbHVlLnJlc3BvbnNlOwogIH0pOwp9CgovKioKICogR2VuZXJhdG9yIGZ1bmN0aW9uIHdoaWNoIGlzIGNhbGxlZCBiZXR3ZWVuIGVhY2ggYXN5bmMgc3RlcCBvZiB0aGUgdXBsb2FkCiAqIHByb2Nlc3MuCiAqIEBwYXJhbSB7c3RyaW5nfSBpbnB1dElkIEVsZW1lbnQgSUQgb2YgdGhlIGlucHV0IGZpbGUgcGlja2VyIGVsZW1lbnQuCiAqIEBwYXJhbSB7c3RyaW5nfSBvdXRwdXRJZCBFbGVtZW50IElEIG9mIHRoZSBvdXRwdXQgZGlzcGxheS4KICogQHJldHVybiB7IUl0ZXJhYmxlPCFPYmplY3Q+fSBJdGVyYWJsZSBvZiBuZXh0IHN0ZXBzLgogKi8KZnVuY3Rpb24qIHVwbG9hZEZpbGVzU3RlcChpbnB1dElkLCBvdXRwdXRJZCkgewogIGNvbnN0IGlucHV0RWxlbWVudCA9IGRvY3VtZW50LmdldEVsZW1lbnRCeUlkKGlucHV0SWQpOwogIGlucHV0RWxlbWVudC5kaXNhYmxlZCA9IGZhbHNlOwoKICBjb25zdCBvdXRwdXRFbGVtZW50ID0gZG9jdW1lbnQuZ2V0RWxlbWVudEJ5SWQob3V0cHV0SWQpOwogIG91dHB1dEVsZW1lbnQuaW5uZXJIVE1MID0gJyc7CgogIGNvbnN0IHBpY2tlZFByb21pc2UgPSBuZXcgUHJvbWlzZSgocmVzb2x2ZSkgPT4gewogICAgaW5wdXRFbGVtZW50LmFkZEV2ZW50TGlzdGVuZXIoJ2NoYW5nZScsIChlKSA9PiB7CiAgICAgIHJlc29sdmUoZS50YXJnZXQuZmlsZXMpOwogICAgfSk7CiAgfSk7CgogIGNvbnN0IGNhbmNlbCA9IGRvY3VtZW50LmNyZWF0ZUVsZW1lbnQoJ2J1dHRvbicpOwogIGlucHV0RWxlbWVudC5wYXJlbnRFbGVtZW50LmFwcGVuZENoaWxkKGNhbmNlbCk7CiAgY2FuY2VsLnRleHRDb250ZW50ID0gJ0NhbmNlbCB1cGxvYWQnOwogIGNvbnN0IGNhbmNlbFByb21pc2UgPSBuZXcgUHJvbWlzZSgocmVzb2x2ZSkgPT4gewogICAgY2FuY2VsLm9uY2xpY2sgPSAoKSA9PiB7CiAgICAgIHJlc29sdmUobnVsbCk7CiAgICB9OwogIH0pOwoKICAvLyBXYWl0IGZvciB0aGUgdXNlciB0byBwaWNrIHRoZSBmaWxlcy4KICBjb25zdCBmaWxlcyA9IHlpZWxkIHsKICAgIHByb21pc2U6IFByb21pc2UucmFjZShbcGlja2VkUHJvbWlzZSwgY2FuY2VsUHJvbWlzZV0pLAogICAgcmVzcG9uc2U6IHsKICAgICAgYWN0aW9uOiAnc3RhcnRpbmcnLAogICAgfQogIH07CgogIGNhbmNlbC5yZW1vdmUoKTsKCiAgLy8gRGlzYWJsZSB0aGUgaW5wdXQgZWxlbWVudCBzaW5jZSBmdXJ0aGVyIHBpY2tzIGFyZSBub3QgYWxsb3dlZC4KICBpbnB1dEVsZW1lbnQuZGlzYWJsZWQgPSB0cnVlOwoKICBpZiAoIWZpbGVzKSB7CiAgICByZXR1cm4gewogICAgICByZXNwb25zZTogewogICAgICAgIGFjdGlvbjogJ2NvbXBsZXRlJywKICAgICAgfQogICAgfTsKICB9CgogIGZvciAoY29uc3QgZmlsZSBvZiBmaWxlcykgewogICAgY29uc3QgbGkgPSBkb2N1bWVudC5jcmVhdGVFbGVtZW50KCdsaScpOwogICAgbGkuYXBwZW5kKHNwYW4oZmlsZS5uYW1lLCB7Zm9udFdlaWdodDogJ2JvbGQnfSkpOwogICAgbGkuYXBwZW5kKHNwYW4oCiAgICAgICAgYCgke2ZpbGUudHlwZSB8fCAnbi9hJ30pIC0gJHtmaWxlLnNpemV9IGJ5dGVzLCBgICsKICAgICAgICBgbGFzdCBtb2RpZmllZDogJHsKICAgICAgICAgICAgZmlsZS5sYXN0TW9kaWZpZWREYXRlID8gZmlsZS5sYXN0TW9kaWZpZWREYXRlLnRvTG9jYWxlRGF0ZVN0cmluZygpIDoKICAgICAgICAgICAgICAgICAgICAgICAgICAgICAgICAgICAgJ24vYSd9IC0gYCkpOwogICAgY29uc3QgcGVyY2VudCA9IHNwYW4oJzAlIGRvbmUnKTsKICAgIGxpLmFwcGVuZENoaWxkKHBlcmNlbnQpOwoKICAgIG91dHB1dEVsZW1lbnQuYXBwZW5kQ2hpbGQobGkpOwoKICAgIGNvbnN0IGZpbGVEYXRhUHJvbWlzZSA9IG5ldyBQcm9taXNlKChyZXNvbHZlKSA9PiB7CiAgICAgIGNvbnN0IHJlYWRlciA9IG5ldyBGaWxlUmVhZGVyKCk7CiAgICAgIHJlYWRlci5vbmxvYWQgPSAoZSkgPT4gewogICAgICAgIHJlc29sdmUoZS50YXJnZXQucmVzdWx0KTsKICAgICAgfTsKICAgICAgcmVhZGVyLnJlYWRBc0FycmF5QnVmZmVyKGZpbGUpOwogICAgfSk7CiAgICAvLyBXYWl0IGZvciB0aGUgZGF0YSB0byBiZSByZWFkeS4KICAgIGxldCBmaWxlRGF0YSA9IHlpZWxkIHsKICAgICAgcHJvbWlzZTogZmlsZURhdGFQcm9taXNlLAogICAgICByZXNwb25zZTogewogICAgICAgIGFjdGlvbjogJ2NvbnRpbnVlJywKICAgICAgfQogICAgfTsKCiAgICAvLyBVc2UgYSBjaHVua2VkIHNlbmRpbmcgdG8gYXZvaWQgbWVzc2FnZSBzaXplIGxpbWl0cy4gU2VlIGIvNjIxMTU2NjAuCiAgICBsZXQgcG9zaXRpb24gPSAwOwogICAgZG8gewogICAgICBjb25zdCBsZW5ndGggPSBNYXRoLm1pbihmaWxlRGF0YS5ieXRlTGVuZ3RoIC0gcG9zaXRpb24sIE1BWF9QQVlMT0FEX1NJWkUpOwogICAgICBjb25zdCBjaHVuayA9IG5ldyBVaW50OEFycmF5KGZpbGVEYXRhLCBwb3NpdGlvbiwgbGVuZ3RoKTsKICAgICAgcG9zaXRpb24gKz0gbGVuZ3RoOwoKICAgICAgY29uc3QgYmFzZTY0ID0gYnRvYShTdHJpbmcuZnJvbUNoYXJDb2RlLmFwcGx5KG51bGwsIGNodW5rKSk7CiAgICAgIHlpZWxkIHsKICAgICAgICByZXNwb25zZTogewogICAgICAgICAgYWN0aW9uOiAnYXBwZW5kJywKICAgICAgICAgIGZpbGU6IGZpbGUubmFtZSwKICAgICAgICAgIGRhdGE6IGJhc2U2NCwKICAgICAgICB9LAogICAgICB9OwoKICAgICAgbGV0IHBlcmNlbnREb25lID0gZmlsZURhdGEuYnl0ZUxlbmd0aCA9PT0gMCA/CiAgICAgICAgICAxMDAgOgogICAgICAgICAgTWF0aC5yb3VuZCgocG9zaXRpb24gLyBmaWxlRGF0YS5ieXRlTGVuZ3RoKSAqIDEwMCk7CiAgICAgIHBlcmNlbnQudGV4dENvbnRlbnQgPSBgJHtwZXJjZW50RG9uZX0lIGRvbmVgOwoKICAgIH0gd2hpbGUgKHBvc2l0aW9uIDwgZmlsZURhdGEuYnl0ZUxlbmd0aCk7CiAgfQoKICAvLyBBbGwgZG9uZS4KICB5aWVsZCB7CiAgICByZXNwb25zZTogewogICAgICBhY3Rpb246ICdjb21wbGV0ZScsCiAgICB9CiAgfTsKfQoKc2NvcGUuZ29vZ2xlID0gc2NvcGUuZ29vZ2xlIHx8IHt9OwpzY29wZS5nb29nbGUuY29sYWIgPSBzY29wZS5nb29nbGUuY29sYWIgfHwge307CnNjb3BlLmdvb2dsZS5jb2xhYi5fZmlsZXMgPSB7CiAgX3VwbG9hZEZpbGVzLAogIF91cGxvYWRGaWxlc0NvbnRpbnVlLAp9Owp9KShzZWxmKTsK",
              "ok": true,
              "headers": [
                [
                  "content-type",
                  "application/javascript"
                ]
              ],
              "status": 200,
              "status_text": ""
            }
          },
          "base_uri": "https://localhost:8080/",
          "height": 89
        },
        "outputId": "0c1e8940-5a50-4d6f-d106-9466e9bd289e"
      },
      "source": [
        "# 0. load data from file\n",
        "from google.colab import files\n",
        " \n",
        "uploaded = files.upload()\n",
        " \n",
        "for fn in uploaded.keys():\n",
        "  print('User uploaded file \"{name}\" with length {length} bytes'.format(\n",
        "      name=fn, length=len(uploaded[fn])))"
      ],
      "execution_count": null,
      "outputs": [
        {
          "output_type": "display_data",
          "data": {
            "text/html": [
              "\n",
              "     <input type=\"file\" id=\"files-243b1120-812e-4ad5-8495-f0e49ea185d1\" name=\"files[]\" multiple disabled\n",
              "        style=\"border:none\" />\n",
              "     <output id=\"result-243b1120-812e-4ad5-8495-f0e49ea185d1\">\n",
              "      Upload widget is only available when the cell has been executed in the\n",
              "      current browser session. Please rerun this cell to enable.\n",
              "      </output>\n",
              "      <script src=\"/nbextensions/google.colab/files.js\"></script> "
            ],
            "text/plain": [
              "<IPython.core.display.HTML object>"
            ]
          },
          "metadata": {}
        },
        {
          "output_type": "stream",
          "name": "stdout",
          "text": [
            "Saving train_values.csv to train_values.csv\n",
            "User uploaded file \"train_values.csv\" with length 9591 bytes\n"
          ]
        }
      ]
    },
    {
      "cell_type": "markdown",
      "metadata": {
        "id": "Q7USmL_rRf2a"
      },
      "source": [
        "La forma de leer ficheros CSV es él método read_csv. A éste método se le pueden especifica entre otros los siguientes parámetros:\n",
        "\n",
        "*   na_values: carácter que representa los valores perdidos\n",
        "*   sep: carácter que representa el separador entre vampos \n",
        "*  usecols : nombres de las columnas a ser utilizadas. \n",
        "\n",
        "\n",
        "\n"
      ]
    },
    {
      "cell_type": "code",
      "metadata": {
        "id": "cvpFeb-_REgl"
      },
      "source": [
        "# 0. load data in DataFrame\n",
        "import pandas as pd\n",
        "import io\n",
        "data = pd.read_csv(io.StringIO(uploaded[fn].decode('utf-8')), index_col = [\"patient_id\"])\n",
        "\n"
      ],
      "execution_count": null,
      "outputs": []
    },
    {
      "cell_type": "code",
      "metadata": {
        "id": "RULqe-jMxLzl",
        "colab": {
          "base_uri": "https://localhost:8080/"
        },
        "outputId": "adf6adae-9746-49ed-d4cf-273fa9dafc47"
      },
      "source": [
        "data.columns"
      ],
      "execution_count": null,
      "outputs": [
        {
          "output_type": "execute_result",
          "data": {
            "text/plain": [
              "Index(['slope_of_peak_exercise_st_segment', 'thal', 'resting_blood_pressure',\n",
              "       'chest_pain_type', 'num_major_vessels',\n",
              "       'fasting_blood_sugar_gt_120_mg_per_dl', 'resting_ekg_results',\n",
              "       'serum_cholesterol_mg_per_dl', 'oldpeak_eq_st_depression', 'sex', 'age',\n",
              "       'max_heart_rate_achieved', 'exercise_induced_angina'],\n",
              "      dtype='object')"
            ]
          },
          "metadata": {},
          "execution_count": 3
        }
      ]
    },
    {
      "cell_type": "markdown",
      "metadata": {
        "id": "PNJ8D_WGSiUi"
      },
      "source": [
        "## Observando los datos\n",
        "\n",
        "\n",
        "Es importante para conocer los datos leerse primero la descripción de los mismos que se puede obtener en este [enlace](https://www.drivendata.org/competitions/54/machine-learning-with-a-heart/page/109/)\n",
        "\n",
        "Para ver las primeras filas se utiliza el método head, pudiendo indicar cuantas filas queremos ver. "
      ]
    },
    {
      "cell_type": "code",
      "metadata": {
        "id": "C-xAwt96RJ04",
        "colab": {
          "base_uri": "https://localhost:8080/",
          "height": 410
        },
        "outputId": "8ea16926-ad62-4858-e538-4879b990f5a4"
      },
      "source": [
        "data.head(10)"
      ],
      "execution_count": null,
      "outputs": [
        {
          "output_type": "execute_result",
          "data": {
            "text/html": [
              "<div>\n",
              "<style scoped>\n",
              "    .dataframe tbody tr th:only-of-type {\n",
              "        vertical-align: middle;\n",
              "    }\n",
              "\n",
              "    .dataframe tbody tr th {\n",
              "        vertical-align: top;\n",
              "    }\n",
              "\n",
              "    .dataframe thead th {\n",
              "        text-align: right;\n",
              "    }\n",
              "</style>\n",
              "<table border=\"1\" class=\"dataframe\">\n",
              "  <thead>\n",
              "    <tr style=\"text-align: right;\">\n",
              "      <th></th>\n",
              "      <th>slope_of_peak_exercise_st_segment</th>\n",
              "      <th>thal</th>\n",
              "      <th>resting_blood_pressure</th>\n",
              "      <th>chest_pain_type</th>\n",
              "      <th>num_major_vessels</th>\n",
              "      <th>fasting_blood_sugar_gt_120_mg_per_dl</th>\n",
              "      <th>resting_ekg_results</th>\n",
              "      <th>serum_cholesterol_mg_per_dl</th>\n",
              "      <th>oldpeak_eq_st_depression</th>\n",
              "      <th>sex</th>\n",
              "      <th>age</th>\n",
              "      <th>max_heart_rate_achieved</th>\n",
              "      <th>exercise_induced_angina</th>\n",
              "    </tr>\n",
              "    <tr>\n",
              "      <th>patient_id</th>\n",
              "      <th></th>\n",
              "      <th></th>\n",
              "      <th></th>\n",
              "      <th></th>\n",
              "      <th></th>\n",
              "      <th></th>\n",
              "      <th></th>\n",
              "      <th></th>\n",
              "      <th></th>\n",
              "      <th></th>\n",
              "      <th></th>\n",
              "      <th></th>\n",
              "      <th></th>\n",
              "    </tr>\n",
              "  </thead>\n",
              "  <tbody>\n",
              "    <tr>\n",
              "      <th>0z64un</th>\n",
              "      <td>1</td>\n",
              "      <td>normal</td>\n",
              "      <td>128</td>\n",
              "      <td>2</td>\n",
              "      <td>0</td>\n",
              "      <td>0</td>\n",
              "      <td>2</td>\n",
              "      <td>308</td>\n",
              "      <td>0.0</td>\n",
              "      <td>1</td>\n",
              "      <td>45</td>\n",
              "      <td>170</td>\n",
              "      <td>0</td>\n",
              "    </tr>\n",
              "    <tr>\n",
              "      <th>ryoo3j</th>\n",
              "      <td>2</td>\n",
              "      <td>normal</td>\n",
              "      <td>110</td>\n",
              "      <td>3</td>\n",
              "      <td>0</td>\n",
              "      <td>0</td>\n",
              "      <td>0</td>\n",
              "      <td>214</td>\n",
              "      <td>1.6</td>\n",
              "      <td>0</td>\n",
              "      <td>54</td>\n",
              "      <td>158</td>\n",
              "      <td>0</td>\n",
              "    </tr>\n",
              "    <tr>\n",
              "      <th>yt1s1x</th>\n",
              "      <td>1</td>\n",
              "      <td>normal</td>\n",
              "      <td>125</td>\n",
              "      <td>4</td>\n",
              "      <td>3</td>\n",
              "      <td>0</td>\n",
              "      <td>2</td>\n",
              "      <td>304</td>\n",
              "      <td>0.0</td>\n",
              "      <td>1</td>\n",
              "      <td>77</td>\n",
              "      <td>162</td>\n",
              "      <td>1</td>\n",
              "    </tr>\n",
              "    <tr>\n",
              "      <th>l2xjde</th>\n",
              "      <td>1</td>\n",
              "      <td>reversible_defect</td>\n",
              "      <td>152</td>\n",
              "      <td>4</td>\n",
              "      <td>0</td>\n",
              "      <td>0</td>\n",
              "      <td>0</td>\n",
              "      <td>223</td>\n",
              "      <td>0.0</td>\n",
              "      <td>1</td>\n",
              "      <td>40</td>\n",
              "      <td>181</td>\n",
              "      <td>0</td>\n",
              "    </tr>\n",
              "    <tr>\n",
              "      <th>oyt4ek</th>\n",
              "      <td>3</td>\n",
              "      <td>reversible_defect</td>\n",
              "      <td>178</td>\n",
              "      <td>1</td>\n",
              "      <td>0</td>\n",
              "      <td>0</td>\n",
              "      <td>2</td>\n",
              "      <td>270</td>\n",
              "      <td>4.2</td>\n",
              "      <td>1</td>\n",
              "      <td>59</td>\n",
              "      <td>145</td>\n",
              "      <td>0</td>\n",
              "    </tr>\n",
              "    <tr>\n",
              "      <th>ldukkw</th>\n",
              "      <td>1</td>\n",
              "      <td>normal</td>\n",
              "      <td>130</td>\n",
              "      <td>3</td>\n",
              "      <td>0</td>\n",
              "      <td>0</td>\n",
              "      <td>0</td>\n",
              "      <td>180</td>\n",
              "      <td>0.0</td>\n",
              "      <td>1</td>\n",
              "      <td>42</td>\n",
              "      <td>150</td>\n",
              "      <td>0</td>\n",
              "    </tr>\n",
              "    <tr>\n",
              "      <th>2gbyh9</th>\n",
              "      <td>2</td>\n",
              "      <td>reversible_defect</td>\n",
              "      <td>150</td>\n",
              "      <td>4</td>\n",
              "      <td>2</td>\n",
              "      <td>0</td>\n",
              "      <td>2</td>\n",
              "      <td>258</td>\n",
              "      <td>2.6</td>\n",
              "      <td>0</td>\n",
              "      <td>60</td>\n",
              "      <td>157</td>\n",
              "      <td>0</td>\n",
              "    </tr>\n",
              "    <tr>\n",
              "      <th>daa9kp</th>\n",
              "      <td>2</td>\n",
              "      <td>fixed_defect</td>\n",
              "      <td>150</td>\n",
              "      <td>4</td>\n",
              "      <td>1</td>\n",
              "      <td>0</td>\n",
              "      <td>2</td>\n",
              "      <td>276</td>\n",
              "      <td>0.6</td>\n",
              "      <td>1</td>\n",
              "      <td>57</td>\n",
              "      <td>112</td>\n",
              "      <td>1</td>\n",
              "    </tr>\n",
              "    <tr>\n",
              "      <th>3nwy2n</th>\n",
              "      <td>3</td>\n",
              "      <td>reversible_defect</td>\n",
              "      <td>170</td>\n",
              "      <td>4</td>\n",
              "      <td>0</td>\n",
              "      <td>0</td>\n",
              "      <td>2</td>\n",
              "      <td>326</td>\n",
              "      <td>3.4</td>\n",
              "      <td>1</td>\n",
              "      <td>59</td>\n",
              "      <td>140</td>\n",
              "      <td>1</td>\n",
              "    </tr>\n",
              "    <tr>\n",
              "      <th>1r508r</th>\n",
              "      <td>2</td>\n",
              "      <td>normal</td>\n",
              "      <td>120</td>\n",
              "      <td>3</td>\n",
              "      <td>0</td>\n",
              "      <td>0</td>\n",
              "      <td>0</td>\n",
              "      <td>219</td>\n",
              "      <td>1.6</td>\n",
              "      <td>0</td>\n",
              "      <td>50</td>\n",
              "      <td>158</td>\n",
              "      <td>0</td>\n",
              "    </tr>\n",
              "  </tbody>\n",
              "</table>\n",
              "</div>"
            ],
            "text/plain": [
              "            slope_of_peak_exercise_st_segment  ... exercise_induced_angina\n",
              "patient_id                                     ...                        \n",
              "0z64un                                      1  ...                       0\n",
              "ryoo3j                                      2  ...                       0\n",
              "yt1s1x                                      1  ...                       1\n",
              "l2xjde                                      1  ...                       0\n",
              "oyt4ek                                      3  ...                       0\n",
              "ldukkw                                      1  ...                       0\n",
              "2gbyh9                                      2  ...                       0\n",
              "daa9kp                                      2  ...                       1\n",
              "3nwy2n                                      3  ...                       1\n",
              "1r508r                                      2  ...                       0\n",
              "\n",
              "[10 rows x 13 columns]"
            ]
          },
          "metadata": {},
          "execution_count": 4
        }
      ]
    },
    {
      "cell_type": "markdown",
      "metadata": {
        "id": "KjDB7yhOTJTc"
      },
      "source": [
        "También existe el método correspondiente para ver los registros del final del dataset"
      ]
    },
    {
      "cell_type": "code",
      "metadata": {
        "id": "4HkUb1TOTOQQ",
        "colab": {
          "base_uri": "https://localhost:8080/",
          "height": 472
        },
        "outputId": "2447c1ce-2f8b-4424-823f-34a6f5894efe"
      },
      "source": [
        "data.tail(12)"
      ],
      "execution_count": null,
      "outputs": [
        {
          "output_type": "execute_result",
          "data": {
            "text/html": [
              "<div>\n",
              "<style scoped>\n",
              "    .dataframe tbody tr th:only-of-type {\n",
              "        vertical-align: middle;\n",
              "    }\n",
              "\n",
              "    .dataframe tbody tr th {\n",
              "        vertical-align: top;\n",
              "    }\n",
              "\n",
              "    .dataframe thead th {\n",
              "        text-align: right;\n",
              "    }\n",
              "</style>\n",
              "<table border=\"1\" class=\"dataframe\">\n",
              "  <thead>\n",
              "    <tr style=\"text-align: right;\">\n",
              "      <th></th>\n",
              "      <th>slope_of_peak_exercise_st_segment</th>\n",
              "      <th>thal</th>\n",
              "      <th>resting_blood_pressure</th>\n",
              "      <th>chest_pain_type</th>\n",
              "      <th>num_major_vessels</th>\n",
              "      <th>fasting_blood_sugar_gt_120_mg_per_dl</th>\n",
              "      <th>resting_ekg_results</th>\n",
              "      <th>serum_cholesterol_mg_per_dl</th>\n",
              "      <th>oldpeak_eq_st_depression</th>\n",
              "      <th>sex</th>\n",
              "      <th>age</th>\n",
              "      <th>max_heart_rate_achieved</th>\n",
              "      <th>exercise_induced_angina</th>\n",
              "    </tr>\n",
              "    <tr>\n",
              "      <th>patient_id</th>\n",
              "      <th></th>\n",
              "      <th></th>\n",
              "      <th></th>\n",
              "      <th></th>\n",
              "      <th></th>\n",
              "      <th></th>\n",
              "      <th></th>\n",
              "      <th></th>\n",
              "      <th></th>\n",
              "      <th></th>\n",
              "      <th></th>\n",
              "      <th></th>\n",
              "      <th></th>\n",
              "    </tr>\n",
              "  </thead>\n",
              "  <tbody>\n",
              "    <tr>\n",
              "      <th>7zbya5</th>\n",
              "      <td>3</td>\n",
              "      <td>fixed_defect</td>\n",
              "      <td>145</td>\n",
              "      <td>1</td>\n",
              "      <td>0</td>\n",
              "      <td>1</td>\n",
              "      <td>2</td>\n",
              "      <td>233</td>\n",
              "      <td>2.3</td>\n",
              "      <td>1</td>\n",
              "      <td>63</td>\n",
              "      <td>150</td>\n",
              "      <td>0</td>\n",
              "    </tr>\n",
              "    <tr>\n",
              "      <th>23gf0e</th>\n",
              "      <td>2</td>\n",
              "      <td>normal</td>\n",
              "      <td>110</td>\n",
              "      <td>1</td>\n",
              "      <td>0</td>\n",
              "      <td>0</td>\n",
              "      <td>2</td>\n",
              "      <td>211</td>\n",
              "      <td>1.8</td>\n",
              "      <td>1</td>\n",
              "      <td>64</td>\n",
              "      <td>144</td>\n",
              "      <td>1</td>\n",
              "    </tr>\n",
              "    <tr>\n",
              "      <th>qhz9ye</th>\n",
              "      <td>1</td>\n",
              "      <td>reversible_defect</td>\n",
              "      <td>150</td>\n",
              "      <td>4</td>\n",
              "      <td>0</td>\n",
              "      <td>0</td>\n",
              "      <td>2</td>\n",
              "      <td>270</td>\n",
              "      <td>0.8</td>\n",
              "      <td>1</td>\n",
              "      <td>58</td>\n",
              "      <td>111</td>\n",
              "      <td>1</td>\n",
              "    </tr>\n",
              "    <tr>\n",
              "      <th>u25507</th>\n",
              "      <td>1</td>\n",
              "      <td>normal</td>\n",
              "      <td>112</td>\n",
              "      <td>4</td>\n",
              "      <td>1</td>\n",
              "      <td>0</td>\n",
              "      <td>2</td>\n",
              "      <td>212</td>\n",
              "      <td>0.1</td>\n",
              "      <td>1</td>\n",
              "      <td>66</td>\n",
              "      <td>132</td>\n",
              "      <td>1</td>\n",
              "    </tr>\n",
              "    <tr>\n",
              "      <th>j9tw19</th>\n",
              "      <td>2</td>\n",
              "      <td>reversible_defect</td>\n",
              "      <td>118</td>\n",
              "      <td>4</td>\n",
              "      <td>0</td>\n",
              "      <td>0</td>\n",
              "      <td>0</td>\n",
              "      <td>219</td>\n",
              "      <td>1.2</td>\n",
              "      <td>1</td>\n",
              "      <td>39</td>\n",
              "      <td>140</td>\n",
              "      <td>0</td>\n",
              "    </tr>\n",
              "    <tr>\n",
              "      <th>5o32oi</th>\n",
              "      <td>1</td>\n",
              "      <td>reversible_defect</td>\n",
              "      <td>140</td>\n",
              "      <td>4</td>\n",
              "      <td>0</td>\n",
              "      <td>0</td>\n",
              "      <td>0</td>\n",
              "      <td>299</td>\n",
              "      <td>1.6</td>\n",
              "      <td>1</td>\n",
              "      <td>51</td>\n",
              "      <td>173</td>\n",
              "      <td>1</td>\n",
              "    </tr>\n",
              "    <tr>\n",
              "      <th>o63ri2</th>\n",
              "      <td>1</td>\n",
              "      <td>normal</td>\n",
              "      <td>140</td>\n",
              "      <td>4</td>\n",
              "      <td>0</td>\n",
              "      <td>0</td>\n",
              "      <td>0</td>\n",
              "      <td>239</td>\n",
              "      <td>1.2</td>\n",
              "      <td>1</td>\n",
              "      <td>54</td>\n",
              "      <td>160</td>\n",
              "      <td>0</td>\n",
              "    </tr>\n",
              "    <tr>\n",
              "      <th>5qfar3</th>\n",
              "      <td>2</td>\n",
              "      <td>reversible_defect</td>\n",
              "      <td>125</td>\n",
              "      <td>4</td>\n",
              "      <td>2</td>\n",
              "      <td>1</td>\n",
              "      <td>0</td>\n",
              "      <td>254</td>\n",
              "      <td>0.2</td>\n",
              "      <td>1</td>\n",
              "      <td>67</td>\n",
              "      <td>163</td>\n",
              "      <td>0</td>\n",
              "    </tr>\n",
              "    <tr>\n",
              "      <th>2s2b1f</th>\n",
              "      <td>2</td>\n",
              "      <td>normal</td>\n",
              "      <td>180</td>\n",
              "      <td>4</td>\n",
              "      <td>0</td>\n",
              "      <td>0</td>\n",
              "      <td>1</td>\n",
              "      <td>327</td>\n",
              "      <td>3.4</td>\n",
              "      <td>0</td>\n",
              "      <td>55</td>\n",
              "      <td>117</td>\n",
              "      <td>1</td>\n",
              "    </tr>\n",
              "    <tr>\n",
              "      <th>nsd00i</th>\n",
              "      <td>2</td>\n",
              "      <td>reversible_defect</td>\n",
              "      <td>125</td>\n",
              "      <td>3</td>\n",
              "      <td>0</td>\n",
              "      <td>0</td>\n",
              "      <td>0</td>\n",
              "      <td>309</td>\n",
              "      <td>1.8</td>\n",
              "      <td>1</td>\n",
              "      <td>64</td>\n",
              "      <td>131</td>\n",
              "      <td>1</td>\n",
              "    </tr>\n",
              "    <tr>\n",
              "      <th>0xw93k</th>\n",
              "      <td>1</td>\n",
              "      <td>normal</td>\n",
              "      <td>124</td>\n",
              "      <td>3</td>\n",
              "      <td>2</td>\n",
              "      <td>1</td>\n",
              "      <td>0</td>\n",
              "      <td>255</td>\n",
              "      <td>0.0</td>\n",
              "      <td>1</td>\n",
              "      <td>48</td>\n",
              "      <td>175</td>\n",
              "      <td>0</td>\n",
              "    </tr>\n",
              "    <tr>\n",
              "      <th>2nx10r</th>\n",
              "      <td>1</td>\n",
              "      <td>normal</td>\n",
              "      <td>160</td>\n",
              "      <td>3</td>\n",
              "      <td>1</td>\n",
              "      <td>0</td>\n",
              "      <td>0</td>\n",
              "      <td>201</td>\n",
              "      <td>0.0</td>\n",
              "      <td>0</td>\n",
              "      <td>54</td>\n",
              "      <td>163</td>\n",
              "      <td>0</td>\n",
              "    </tr>\n",
              "  </tbody>\n",
              "</table>\n",
              "</div>"
            ],
            "text/plain": [
              "            slope_of_peak_exercise_st_segment  ... exercise_induced_angina\n",
              "patient_id                                     ...                        \n",
              "7zbya5                                      3  ...                       0\n",
              "23gf0e                                      2  ...                       1\n",
              "qhz9ye                                      1  ...                       1\n",
              "u25507                                      1  ...                       1\n",
              "j9tw19                                      2  ...                       0\n",
              "5o32oi                                      1  ...                       1\n",
              "o63ri2                                      1  ...                       0\n",
              "5qfar3                                      2  ...                       0\n",
              "2s2b1f                                      2  ...                       1\n",
              "nsd00i                                      2  ...                       1\n",
              "0xw93k                                      1  ...                       0\n",
              "2nx10r                                      1  ...                       0\n",
              "\n",
              "[12 rows x 13 columns]"
            ]
          },
          "metadata": {},
          "execution_count": 5
        }
      ]
    },
    {
      "cell_type": "markdown",
      "metadata": {
        "id": "-4gWLL54jzoE"
      },
      "source": [
        "Para saber las características básicas del Dataset"
      ]
    },
    {
      "cell_type": "code",
      "metadata": {
        "id": "Ob7hbeTgjw1E",
        "colab": {
          "base_uri": "https://localhost:8080/"
        },
        "outputId": "6325dfd5-345c-4bd8-805a-f5605ab205f4"
      },
      "source": [
        "data.shape"
      ],
      "execution_count": null,
      "outputs": [
        {
          "output_type": "execute_result",
          "data": {
            "text/plain": [
              "(180, 13)"
            ]
          },
          "metadata": {},
          "execution_count": 6
        }
      ]
    },
    {
      "cell_type": "markdown",
      "metadata": {
        "id": "EQh-i7gQTUVg"
      },
      "source": [
        "Y para saber más estadísticas (medía, máximo, mínimo, desviación típica y percentiles) de cada uno de los **campos numéricos** se utiliza el método *describe()*."
      ]
    },
    {
      "cell_type": "code",
      "metadata": {
        "id": "T-HLi3SkTbR4",
        "colab": {
          "base_uri": "https://localhost:8080/",
          "height": 317
        },
        "outputId": "bbcf49ff-5cbd-400a-af9e-5f2367d2edaf"
      },
      "source": [
        "data.describe()"
      ],
      "execution_count": null,
      "outputs": [
        {
          "output_type": "execute_result",
          "data": {
            "text/html": [
              "<div>\n",
              "<style scoped>\n",
              "    .dataframe tbody tr th:only-of-type {\n",
              "        vertical-align: middle;\n",
              "    }\n",
              "\n",
              "    .dataframe tbody tr th {\n",
              "        vertical-align: top;\n",
              "    }\n",
              "\n",
              "    .dataframe thead th {\n",
              "        text-align: right;\n",
              "    }\n",
              "</style>\n",
              "<table border=\"1\" class=\"dataframe\">\n",
              "  <thead>\n",
              "    <tr style=\"text-align: right;\">\n",
              "      <th></th>\n",
              "      <th>slope_of_peak_exercise_st_segment</th>\n",
              "      <th>resting_blood_pressure</th>\n",
              "      <th>chest_pain_type</th>\n",
              "      <th>num_major_vessels</th>\n",
              "      <th>fasting_blood_sugar_gt_120_mg_per_dl</th>\n",
              "      <th>resting_ekg_results</th>\n",
              "      <th>serum_cholesterol_mg_per_dl</th>\n",
              "      <th>oldpeak_eq_st_depression</th>\n",
              "      <th>sex</th>\n",
              "      <th>age</th>\n",
              "      <th>max_heart_rate_achieved</th>\n",
              "      <th>exercise_induced_angina</th>\n",
              "    </tr>\n",
              "  </thead>\n",
              "  <tbody>\n",
              "    <tr>\n",
              "      <th>count</th>\n",
              "      <td>180.000000</td>\n",
              "      <td>180.000000</td>\n",
              "      <td>180.000000</td>\n",
              "      <td>180.000000</td>\n",
              "      <td>180.000000</td>\n",
              "      <td>180.000000</td>\n",
              "      <td>180.000000</td>\n",
              "      <td>180.000000</td>\n",
              "      <td>180.000000</td>\n",
              "      <td>180.000000</td>\n",
              "      <td>180.000000</td>\n",
              "      <td>180.000000</td>\n",
              "    </tr>\n",
              "    <tr>\n",
              "      <th>mean</th>\n",
              "      <td>1.550000</td>\n",
              "      <td>131.311111</td>\n",
              "      <td>3.155556</td>\n",
              "      <td>0.694444</td>\n",
              "      <td>0.161111</td>\n",
              "      <td>1.050000</td>\n",
              "      <td>249.211111</td>\n",
              "      <td>1.010000</td>\n",
              "      <td>0.688889</td>\n",
              "      <td>54.811111</td>\n",
              "      <td>149.483333</td>\n",
              "      <td>0.316667</td>\n",
              "    </tr>\n",
              "    <tr>\n",
              "      <th>std</th>\n",
              "      <td>0.618838</td>\n",
              "      <td>17.010443</td>\n",
              "      <td>0.938454</td>\n",
              "      <td>0.969347</td>\n",
              "      <td>0.368659</td>\n",
              "      <td>0.998742</td>\n",
              "      <td>52.717969</td>\n",
              "      <td>1.121357</td>\n",
              "      <td>0.464239</td>\n",
              "      <td>9.334737</td>\n",
              "      <td>22.063513</td>\n",
              "      <td>0.466474</td>\n",
              "    </tr>\n",
              "    <tr>\n",
              "      <th>min</th>\n",
              "      <td>1.000000</td>\n",
              "      <td>94.000000</td>\n",
              "      <td>1.000000</td>\n",
              "      <td>0.000000</td>\n",
              "      <td>0.000000</td>\n",
              "      <td>0.000000</td>\n",
              "      <td>126.000000</td>\n",
              "      <td>0.000000</td>\n",
              "      <td>0.000000</td>\n",
              "      <td>29.000000</td>\n",
              "      <td>96.000000</td>\n",
              "      <td>0.000000</td>\n",
              "    </tr>\n",
              "    <tr>\n",
              "      <th>25%</th>\n",
              "      <td>1.000000</td>\n",
              "      <td>120.000000</td>\n",
              "      <td>3.000000</td>\n",
              "      <td>0.000000</td>\n",
              "      <td>0.000000</td>\n",
              "      <td>0.000000</td>\n",
              "      <td>213.750000</td>\n",
              "      <td>0.000000</td>\n",
              "      <td>0.000000</td>\n",
              "      <td>48.000000</td>\n",
              "      <td>132.000000</td>\n",
              "      <td>0.000000</td>\n",
              "    </tr>\n",
              "    <tr>\n",
              "      <th>50%</th>\n",
              "      <td>1.000000</td>\n",
              "      <td>130.000000</td>\n",
              "      <td>3.000000</td>\n",
              "      <td>0.000000</td>\n",
              "      <td>0.000000</td>\n",
              "      <td>2.000000</td>\n",
              "      <td>245.500000</td>\n",
              "      <td>0.800000</td>\n",
              "      <td>1.000000</td>\n",
              "      <td>55.000000</td>\n",
              "      <td>152.000000</td>\n",
              "      <td>0.000000</td>\n",
              "    </tr>\n",
              "    <tr>\n",
              "      <th>75%</th>\n",
              "      <td>2.000000</td>\n",
              "      <td>140.000000</td>\n",
              "      <td>4.000000</td>\n",
              "      <td>1.000000</td>\n",
              "      <td>0.000000</td>\n",
              "      <td>2.000000</td>\n",
              "      <td>281.250000</td>\n",
              "      <td>1.600000</td>\n",
              "      <td>1.000000</td>\n",
              "      <td>62.000000</td>\n",
              "      <td>166.250000</td>\n",
              "      <td>1.000000</td>\n",
              "    </tr>\n",
              "    <tr>\n",
              "      <th>max</th>\n",
              "      <td>3.000000</td>\n",
              "      <td>180.000000</td>\n",
              "      <td>4.000000</td>\n",
              "      <td>3.000000</td>\n",
              "      <td>1.000000</td>\n",
              "      <td>2.000000</td>\n",
              "      <td>564.000000</td>\n",
              "      <td>6.200000</td>\n",
              "      <td>1.000000</td>\n",
              "      <td>77.000000</td>\n",
              "      <td>202.000000</td>\n",
              "      <td>1.000000</td>\n",
              "    </tr>\n",
              "  </tbody>\n",
              "</table>\n",
              "</div>"
            ],
            "text/plain": [
              "       slope_of_peak_exercise_st_segment  ...  exercise_induced_angina\n",
              "count                         180.000000  ...               180.000000\n",
              "mean                            1.550000  ...                 0.316667\n",
              "std                             0.618838  ...                 0.466474\n",
              "min                             1.000000  ...                 0.000000\n",
              "25%                             1.000000  ...                 0.000000\n",
              "50%                             1.000000  ...                 0.000000\n",
              "75%                             2.000000  ...                 1.000000\n",
              "max                             3.000000  ...                 1.000000\n",
              "\n",
              "[8 rows x 12 columns]"
            ]
          },
          "metadata": {},
          "execution_count": 7
        }
      ]
    },
    {
      "cell_type": "markdown",
      "metadata": {
        "id": "1V7J79JrWh2M"
      },
      "source": [
        "Aunque hay que tener cuidado con los datos que siendo categóricos están representados numéricamente, como sucede con *slope_of_peak_exercise_st_segment* que es un dato discreto con valores 1,2,3. SI hay alguna duda, podemos consultar que valores distintos tiene la variable dentro del conjunto de datos, seleccionando la columna mediante *[ nombre columna ]* con el método *unique()*"
      ]
    },
    {
      "cell_type": "code",
      "metadata": {
        "id": "UuYgNV2ZWO5P",
        "colab": {
          "base_uri": "https://localhost:8080/"
        },
        "outputId": "0e7798fb-1e70-4221-c3ed-5e988e1347f3"
      },
      "source": [
        "data['slope_of_peak_exercise_st_segment'].unique()"
      ],
      "execution_count": null,
      "outputs": [
        {
          "output_type": "execute_result",
          "data": {
            "text/plain": [
              "array([1, 2, 3])"
            ]
          },
          "metadata": {},
          "execution_count": 8
        }
      ]
    },
    {
      "cell_type": "code",
      "metadata": {
        "id": "2hWXG8riyMIt",
        "colab": {
          "base_uri": "https://localhost:8080/"
        },
        "outputId": "23ee33e5-ba76-4125-9215-b4a31a8ded13"
      },
      "source": [
        "data.dtypes"
      ],
      "execution_count": null,
      "outputs": [
        {
          "output_type": "execute_result",
          "data": {
            "text/plain": [
              "slope_of_peak_exercise_st_segment         int64\n",
              "thal                                     object\n",
              "resting_blood_pressure                    int64\n",
              "chest_pain_type                           int64\n",
              "num_major_vessels                         int64\n",
              "fasting_blood_sugar_gt_120_mg_per_dl      int64\n",
              "resting_ekg_results                       int64\n",
              "serum_cholesterol_mg_per_dl               int64\n",
              "oldpeak_eq_st_depression                float64\n",
              "sex                                       int64\n",
              "age                                       int64\n",
              "max_heart_rate_achieved                   int64\n",
              "exercise_induced_angina                   int64\n",
              "dtype: object"
            ]
          },
          "metadata": {},
          "execution_count": 9
        }
      ]
    },
    {
      "cell_type": "markdown",
      "metadata": {
        "id": "VjlE_oKuW6rg"
      },
      "source": [
        "Y luego transformar todos aquellos que nos parezcan que van a ser categorías y que puedan sernos útiles para el futuro como categorías. \n",
        "\n",
        "Para  las transformaciones de tipo se utiliza *astype*\n"
      ]
    },
    {
      "cell_type": "code",
      "metadata": {
        "id": "BNJ0ONCJU3LK",
        "colab": {
          "base_uri": "https://localhost:8080/"
        },
        "outputId": "d185eeb7-d8ce-4dd0-8664-3896ee0a6f77"
      },
      "source": [
        "data['slope_of_peak_exercise_st_segment'] = data['slope_of_peak_exercise_st_segment'].astype('category')\n",
        "data['chest_pain_type'] = data['chest_pain_type'].astype('category')\n",
        "data['sex'] = data['sex'].astype('category')\n",
        "data['exercise_induced_angina'] =data['exercise_induced_angina'].astype('category')\n",
        "data.dtypes"
      ],
      "execution_count": null,
      "outputs": [
        {
          "output_type": "execute_result",
          "data": {
            "text/plain": [
              "slope_of_peak_exercise_st_segment       category\n",
              "thal                                      object\n",
              "resting_blood_pressure                     int64\n",
              "chest_pain_type                         category\n",
              "num_major_vessels                          int64\n",
              "fasting_blood_sugar_gt_120_mg_per_dl       int64\n",
              "resting_ekg_results                        int64\n",
              "serum_cholesterol_mg_per_dl                int64\n",
              "oldpeak_eq_st_depression                 float64\n",
              "sex                                     category\n",
              "age                                        int64\n",
              "max_heart_rate_achieved                    int64\n",
              "exercise_induced_angina                 category\n",
              "dtype: object"
            ]
          },
          "metadata": {},
          "execution_count": 10
        }
      ]
    },
    {
      "cell_type": "markdown",
      "metadata": {
        "id": "0oaZZ0zqXW3Z"
      },
      "source": [
        "## Seleccionando los datos"
      ]
    },
    {
      "cell_type": "markdown",
      "metadata": {
        "id": "htUEsJpEXwAZ"
      },
      "source": [
        "Utilizando los [] podemos seleccionar tanto filas como columnas "
      ]
    },
    {
      "cell_type": "code",
      "metadata": {
        "id": "XbnQgf4zYBjn",
        "colab": {
          "base_uri": "https://localhost:8080/",
          "height": 410
        },
        "outputId": "3b356ad9-9da0-459e-a86d-a79759def9ad"
      },
      "source": [
        "data[50:60]"
      ],
      "execution_count": null,
      "outputs": [
        {
          "output_type": "execute_result",
          "data": {
            "text/html": [
              "<div>\n",
              "<style scoped>\n",
              "    .dataframe tbody tr th:only-of-type {\n",
              "        vertical-align: middle;\n",
              "    }\n",
              "\n",
              "    .dataframe tbody tr th {\n",
              "        vertical-align: top;\n",
              "    }\n",
              "\n",
              "    .dataframe thead th {\n",
              "        text-align: right;\n",
              "    }\n",
              "</style>\n",
              "<table border=\"1\" class=\"dataframe\">\n",
              "  <thead>\n",
              "    <tr style=\"text-align: right;\">\n",
              "      <th></th>\n",
              "      <th>slope_of_peak_exercise_st_segment</th>\n",
              "      <th>thal</th>\n",
              "      <th>resting_blood_pressure</th>\n",
              "      <th>chest_pain_type</th>\n",
              "      <th>num_major_vessels</th>\n",
              "      <th>fasting_blood_sugar_gt_120_mg_per_dl</th>\n",
              "      <th>resting_ekg_results</th>\n",
              "      <th>serum_cholesterol_mg_per_dl</th>\n",
              "      <th>oldpeak_eq_st_depression</th>\n",
              "      <th>sex</th>\n",
              "      <th>age</th>\n",
              "      <th>max_heart_rate_achieved</th>\n",
              "      <th>exercise_induced_angina</th>\n",
              "    </tr>\n",
              "    <tr>\n",
              "      <th>patient_id</th>\n",
              "      <th></th>\n",
              "      <th></th>\n",
              "      <th></th>\n",
              "      <th></th>\n",
              "      <th></th>\n",
              "      <th></th>\n",
              "      <th></th>\n",
              "      <th></th>\n",
              "      <th></th>\n",
              "      <th></th>\n",
              "      <th></th>\n",
              "      <th></th>\n",
              "      <th></th>\n",
              "    </tr>\n",
              "  </thead>\n",
              "  <tbody>\n",
              "    <tr>\n",
              "      <th>3drd48</th>\n",
              "      <td>2</td>\n",
              "      <td>reversible_defect</td>\n",
              "      <td>140</td>\n",
              "      <td>4</td>\n",
              "      <td>2</td>\n",
              "      <td>0</td>\n",
              "      <td>0</td>\n",
              "      <td>311</td>\n",
              "      <td>1.8</td>\n",
              "      <td>1</td>\n",
              "      <td>46</td>\n",
              "      <td>120</td>\n",
              "      <td>1</td>\n",
              "    </tr>\n",
              "    <tr>\n",
              "      <th>ejo7p3</th>\n",
              "      <td>1</td>\n",
              "      <td>normal</td>\n",
              "      <td>130</td>\n",
              "      <td>3</td>\n",
              "      <td>1</td>\n",
              "      <td>0</td>\n",
              "      <td>0</td>\n",
              "      <td>315</td>\n",
              "      <td>1.9</td>\n",
              "      <td>1</td>\n",
              "      <td>43</td>\n",
              "      <td>162</td>\n",
              "      <td>0</td>\n",
              "    </tr>\n",
              "    <tr>\n",
              "      <th>r7y4i1</th>\n",
              "      <td>1</td>\n",
              "      <td>reversible_defect</td>\n",
              "      <td>130</td>\n",
              "      <td>4</td>\n",
              "      <td>3</td>\n",
              "      <td>1</td>\n",
              "      <td>2</td>\n",
              "      <td>330</td>\n",
              "      <td>1.8</td>\n",
              "      <td>1</td>\n",
              "      <td>63</td>\n",
              "      <td>132</td>\n",
              "      <td>1</td>\n",
              "    </tr>\n",
              "    <tr>\n",
              "      <th>mznwxv</th>\n",
              "      <td>2</td>\n",
              "      <td>fixed_defect</td>\n",
              "      <td>130</td>\n",
              "      <td>3</td>\n",
              "      <td>1</td>\n",
              "      <td>1</td>\n",
              "      <td>2</td>\n",
              "      <td>256</td>\n",
              "      <td>0.6</td>\n",
              "      <td>1</td>\n",
              "      <td>56</td>\n",
              "      <td>142</td>\n",
              "      <td>1</td>\n",
              "    </tr>\n",
              "    <tr>\n",
              "      <th>27oevk</th>\n",
              "      <td>1</td>\n",
              "      <td>normal</td>\n",
              "      <td>130</td>\n",
              "      <td>4</td>\n",
              "      <td>0</td>\n",
              "      <td>0</td>\n",
              "      <td>2</td>\n",
              "      <td>330</td>\n",
              "      <td>0.0</td>\n",
              "      <td>0</td>\n",
              "      <td>61</td>\n",
              "      <td>169</td>\n",
              "      <td>0</td>\n",
              "    </tr>\n",
              "    <tr>\n",
              "      <th>jwqi3k</th>\n",
              "      <td>1</td>\n",
              "      <td>normal</td>\n",
              "      <td>130</td>\n",
              "      <td>3</td>\n",
              "      <td>0</td>\n",
              "      <td>0</td>\n",
              "      <td>0</td>\n",
              "      <td>233</td>\n",
              "      <td>0.4</td>\n",
              "      <td>1</td>\n",
              "      <td>44</td>\n",
              "      <td>179</td>\n",
              "      <td>1</td>\n",
              "    </tr>\n",
              "    <tr>\n",
              "      <th>328lkl</th>\n",
              "      <td>2</td>\n",
              "      <td>reversible_defect</td>\n",
              "      <td>110</td>\n",
              "      <td>4</td>\n",
              "      <td>1</td>\n",
              "      <td>0</td>\n",
              "      <td>0</td>\n",
              "      <td>239</td>\n",
              "      <td>2.8</td>\n",
              "      <td>1</td>\n",
              "      <td>54</td>\n",
              "      <td>126</td>\n",
              "      <td>1</td>\n",
              "    </tr>\n",
              "    <tr>\n",
              "      <th>tlk9o8</th>\n",
              "      <td>2</td>\n",
              "      <td>reversible_defect</td>\n",
              "      <td>120</td>\n",
              "      <td>4</td>\n",
              "      <td>2</td>\n",
              "      <td>0</td>\n",
              "      <td>0</td>\n",
              "      <td>267</td>\n",
              "      <td>1.8</td>\n",
              "      <td>1</td>\n",
              "      <td>62</td>\n",
              "      <td>99</td>\n",
              "      <td>1</td>\n",
              "    </tr>\n",
              "    <tr>\n",
              "      <th>aq2vrq</th>\n",
              "      <td>1</td>\n",
              "      <td>normal</td>\n",
              "      <td>120</td>\n",
              "      <td>2</td>\n",
              "      <td>0</td>\n",
              "      <td>0</td>\n",
              "      <td>0</td>\n",
              "      <td>295</td>\n",
              "      <td>0.0</td>\n",
              "      <td>1</td>\n",
              "      <td>42</td>\n",
              "      <td>162</td>\n",
              "      <td>0</td>\n",
              "    </tr>\n",
              "    <tr>\n",
              "      <th>ilogfb</th>\n",
              "      <td>1</td>\n",
              "      <td>normal</td>\n",
              "      <td>110</td>\n",
              "      <td>4</td>\n",
              "      <td>1</td>\n",
              "      <td>0</td>\n",
              "      <td>2</td>\n",
              "      <td>197</td>\n",
              "      <td>0.0</td>\n",
              "      <td>1</td>\n",
              "      <td>44</td>\n",
              "      <td>177</td>\n",
              "      <td>0</td>\n",
              "    </tr>\n",
              "  </tbody>\n",
              "</table>\n",
              "</div>"
            ],
            "text/plain": [
              "           slope_of_peak_exercise_st_segment  ... exercise_induced_angina\n",
              "patient_id                                    ...                        \n",
              "3drd48                                     2  ...                       1\n",
              "ejo7p3                                     1  ...                       0\n",
              "r7y4i1                                     1  ...                       1\n",
              "mznwxv                                     2  ...                       1\n",
              "27oevk                                     1  ...                       0\n",
              "jwqi3k                                     1  ...                       1\n",
              "328lkl                                     2  ...                       1\n",
              "tlk9o8                                     2  ...                       1\n",
              "aq2vrq                                     1  ...                       0\n",
              "ilogfb                                     1  ...                       0\n",
              "\n",
              "[10 rows x 13 columns]"
            ]
          },
          "metadata": {},
          "execution_count": 11
        }
      ]
    },
    {
      "cell_type": "code",
      "metadata": {
        "id": "QyhPd6RjX9GI",
        "colab": {
          "base_uri": "https://localhost:8080/",
          "height": 235
        },
        "outputId": "ee17a53c-8fab-42e7-a15d-70605c675f08"
      },
      "source": [
        "data[['resting_blood_pressure', 'serum_cholesterol_mg_per_dl', 'max_heart_rate_achieved' ]].head()"
      ],
      "execution_count": null,
      "outputs": [
        {
          "output_type": "execute_result",
          "data": {
            "text/html": [
              "<div>\n",
              "<style scoped>\n",
              "    .dataframe tbody tr th:only-of-type {\n",
              "        vertical-align: middle;\n",
              "    }\n",
              "\n",
              "    .dataframe tbody tr th {\n",
              "        vertical-align: top;\n",
              "    }\n",
              "\n",
              "    .dataframe thead th {\n",
              "        text-align: right;\n",
              "    }\n",
              "</style>\n",
              "<table border=\"1\" class=\"dataframe\">\n",
              "  <thead>\n",
              "    <tr style=\"text-align: right;\">\n",
              "      <th></th>\n",
              "      <th>resting_blood_pressure</th>\n",
              "      <th>serum_cholesterol_mg_per_dl</th>\n",
              "      <th>max_heart_rate_achieved</th>\n",
              "    </tr>\n",
              "    <tr>\n",
              "      <th>patient_id</th>\n",
              "      <th></th>\n",
              "      <th></th>\n",
              "      <th></th>\n",
              "    </tr>\n",
              "  </thead>\n",
              "  <tbody>\n",
              "    <tr>\n",
              "      <th>0z64un</th>\n",
              "      <td>128</td>\n",
              "      <td>308</td>\n",
              "      <td>170</td>\n",
              "    </tr>\n",
              "    <tr>\n",
              "      <th>ryoo3j</th>\n",
              "      <td>110</td>\n",
              "      <td>214</td>\n",
              "      <td>158</td>\n",
              "    </tr>\n",
              "    <tr>\n",
              "      <th>yt1s1x</th>\n",
              "      <td>125</td>\n",
              "      <td>304</td>\n",
              "      <td>162</td>\n",
              "    </tr>\n",
              "    <tr>\n",
              "      <th>l2xjde</th>\n",
              "      <td>152</td>\n",
              "      <td>223</td>\n",
              "      <td>181</td>\n",
              "    </tr>\n",
              "    <tr>\n",
              "      <th>oyt4ek</th>\n",
              "      <td>178</td>\n",
              "      <td>270</td>\n",
              "      <td>145</td>\n",
              "    </tr>\n",
              "  </tbody>\n",
              "</table>\n",
              "</div>"
            ],
            "text/plain": [
              "            resting_blood_pressure  ...  max_heart_rate_achieved\n",
              "patient_id                          ...                         \n",
              "0z64un                         128  ...                      170\n",
              "ryoo3j                         110  ...                      158\n",
              "yt1s1x                         125  ...                      162\n",
              "l2xjde                         152  ...                      181\n",
              "oyt4ek                         178  ...                      145\n",
              "\n",
              "[5 rows x 3 columns]"
            ]
          },
          "metadata": {},
          "execution_count": 12
        }
      ]
    },
    {
      "cell_type": "markdown",
      "metadata": {
        "id": "wDKClWD-YwsD"
      },
      "source": [
        "O filtrar por algún criterio concreto"
      ]
    },
    {
      "cell_type": "code",
      "metadata": {
        "id": "kcYuprHVXcLN",
        "colab": {
          "base_uri": "https://localhost:8080/",
          "height": 255
        },
        "outputId": "e977837d-e1e9-4c44-db5a-1761acc94612"
      },
      "source": [
        "data[data['resting_blood_pressure'] >= 140].tail() "
      ],
      "execution_count": null,
      "outputs": [
        {
          "output_type": "execute_result",
          "data": {
            "text/html": [
              "<div>\n",
              "<style scoped>\n",
              "    .dataframe tbody tr th:only-of-type {\n",
              "        vertical-align: middle;\n",
              "    }\n",
              "\n",
              "    .dataframe tbody tr th {\n",
              "        vertical-align: top;\n",
              "    }\n",
              "\n",
              "    .dataframe thead th {\n",
              "        text-align: right;\n",
              "    }\n",
              "</style>\n",
              "<table border=\"1\" class=\"dataframe\">\n",
              "  <thead>\n",
              "    <tr style=\"text-align: right;\">\n",
              "      <th></th>\n",
              "      <th>slope_of_peak_exercise_st_segment</th>\n",
              "      <th>thal</th>\n",
              "      <th>resting_blood_pressure</th>\n",
              "      <th>chest_pain_type</th>\n",
              "      <th>num_major_vessels</th>\n",
              "      <th>fasting_blood_sugar_gt_120_mg_per_dl</th>\n",
              "      <th>resting_ekg_results</th>\n",
              "      <th>serum_cholesterol_mg_per_dl</th>\n",
              "      <th>oldpeak_eq_st_depression</th>\n",
              "      <th>sex</th>\n",
              "      <th>age</th>\n",
              "      <th>max_heart_rate_achieved</th>\n",
              "      <th>exercise_induced_angina</th>\n",
              "    </tr>\n",
              "    <tr>\n",
              "      <th>patient_id</th>\n",
              "      <th></th>\n",
              "      <th></th>\n",
              "      <th></th>\n",
              "      <th></th>\n",
              "      <th></th>\n",
              "      <th></th>\n",
              "      <th></th>\n",
              "      <th></th>\n",
              "      <th></th>\n",
              "      <th></th>\n",
              "      <th></th>\n",
              "      <th></th>\n",
              "      <th></th>\n",
              "    </tr>\n",
              "  </thead>\n",
              "  <tbody>\n",
              "    <tr>\n",
              "      <th>qhz9ye</th>\n",
              "      <td>1</td>\n",
              "      <td>reversible_defect</td>\n",
              "      <td>150</td>\n",
              "      <td>4</td>\n",
              "      <td>0</td>\n",
              "      <td>0</td>\n",
              "      <td>2</td>\n",
              "      <td>270</td>\n",
              "      <td>0.8</td>\n",
              "      <td>1</td>\n",
              "      <td>58</td>\n",
              "      <td>111</td>\n",
              "      <td>1</td>\n",
              "    </tr>\n",
              "    <tr>\n",
              "      <th>5o32oi</th>\n",
              "      <td>1</td>\n",
              "      <td>reversible_defect</td>\n",
              "      <td>140</td>\n",
              "      <td>4</td>\n",
              "      <td>0</td>\n",
              "      <td>0</td>\n",
              "      <td>0</td>\n",
              "      <td>299</td>\n",
              "      <td>1.6</td>\n",
              "      <td>1</td>\n",
              "      <td>51</td>\n",
              "      <td>173</td>\n",
              "      <td>1</td>\n",
              "    </tr>\n",
              "    <tr>\n",
              "      <th>o63ri2</th>\n",
              "      <td>1</td>\n",
              "      <td>normal</td>\n",
              "      <td>140</td>\n",
              "      <td>4</td>\n",
              "      <td>0</td>\n",
              "      <td>0</td>\n",
              "      <td>0</td>\n",
              "      <td>239</td>\n",
              "      <td>1.2</td>\n",
              "      <td>1</td>\n",
              "      <td>54</td>\n",
              "      <td>160</td>\n",
              "      <td>0</td>\n",
              "    </tr>\n",
              "    <tr>\n",
              "      <th>2s2b1f</th>\n",
              "      <td>2</td>\n",
              "      <td>normal</td>\n",
              "      <td>180</td>\n",
              "      <td>4</td>\n",
              "      <td>0</td>\n",
              "      <td>0</td>\n",
              "      <td>1</td>\n",
              "      <td>327</td>\n",
              "      <td>3.4</td>\n",
              "      <td>0</td>\n",
              "      <td>55</td>\n",
              "      <td>117</td>\n",
              "      <td>1</td>\n",
              "    </tr>\n",
              "    <tr>\n",
              "      <th>2nx10r</th>\n",
              "      <td>1</td>\n",
              "      <td>normal</td>\n",
              "      <td>160</td>\n",
              "      <td>3</td>\n",
              "      <td>1</td>\n",
              "      <td>0</td>\n",
              "      <td>0</td>\n",
              "      <td>201</td>\n",
              "      <td>0.0</td>\n",
              "      <td>0</td>\n",
              "      <td>54</td>\n",
              "      <td>163</td>\n",
              "      <td>0</td>\n",
              "    </tr>\n",
              "  </tbody>\n",
              "</table>\n",
              "</div>"
            ],
            "text/plain": [
              "           slope_of_peak_exercise_st_segment  ... exercise_induced_angina\n",
              "patient_id                                    ...                        \n",
              "qhz9ye                                     1  ...                       1\n",
              "5o32oi                                     1  ...                       1\n",
              "o63ri2                                     1  ...                       0\n",
              "2s2b1f                                     2  ...                       1\n",
              "2nx10r                                     1  ...                       0\n",
              "\n",
              "[5 rows x 13 columns]"
            ]
          },
          "metadata": {},
          "execution_count": 13
        }
      ]
    },
    {
      "cell_type": "markdown",
      "metadata": {
        "id": "PLl9INChxCmL"
      },
      "source": [
        "También podemos **controlar si hay valores perdidos**, que en este caso no lo hay"
      ]
    },
    {
      "cell_type": "code",
      "metadata": {
        "id": "xUtdIDt9ZHth",
        "colab": {
          "base_uri": "https://localhost:8080/"
        },
        "outputId": "651a86da-20de-4af7-9d68-16fa77e0328e"
      },
      "source": [
        "data.isnull().values.any()"
      ],
      "execution_count": null,
      "outputs": [
        {
          "output_type": "execute_result",
          "data": {
            "text/plain": [
              "False"
            ]
          },
          "metadata": {},
          "execution_count": 14
        }
      ]
    },
    {
      "cell_type": "markdown",
      "metadata": {
        "id": "hbUoU-3eZTEK"
      },
      "source": [
        "## Manipulando los datos\n",
        "\n"
      ]
    },
    {
      "cell_type": "markdown",
      "metadata": {
        "id": "tlu9VYepZeIO"
      },
      "source": [
        "Una vez hemos seleccionado los datos deseados por ahora, lo siguiente que se necesita es manipular los datos de los que se dispone.  "
      ]
    },
    {
      "cell_type": "markdown",
      "metadata": {
        "id": "sG5w9pyMZ-Ul"
      },
      "source": [
        "Una de las cosas más sencillas que podemos hacer es operar con columnas o filas utilizando funciones de agregación (count, sum, mean, median, min, max, prod, std, var).  El resultado de todas estas funciones aplicadas a una línea o es siempre un número. \n",
        "\n",
        "Si se aplica una función a un DataFrame se puede especificar si se debe aplicar la función a las filas de cada columna (estableciendo el parametro **axis = 0**,  o se debe aplicar en las columnas de cada fila (**axis = 1**)"
      ]
    },
    {
      "cell_type": "code",
      "metadata": {
        "id": "aMKLPWXnae-r",
        "colab": {
          "base_uri": "https://localhost:8080/"
        },
        "outputId": "728a0f0b-10c1-4749-bf3b-f19d36e58e86"
      },
      "source": [
        "data.max(axis = 0)"
      ],
      "execution_count": null,
      "outputs": [
        {
          "output_type": "execute_result",
          "data": {
            "text/plain": [
              "thal                                    reversible_defect\n",
              "resting_blood_pressure                                180\n",
              "num_major_vessels                                       3\n",
              "fasting_blood_sugar_gt_120_mg_per_dl                    1\n",
              "resting_ekg_results                                     2\n",
              "serum_cholesterol_mg_per_dl                           564\n",
              "oldpeak_eq_st_depression                              6.2\n",
              "age                                                    77\n",
              "max_heart_rate_achieved                               202\n",
              "dtype: object"
            ]
          },
          "metadata": {},
          "execution_count": 15
        }
      ]
    },
    {
      "cell_type": "markdown",
      "metadata": {
        "id": "Emiv1ZsDa8jI"
      },
      "source": [
        "Además de estas funciones de agregación, podemos aplicar operaciones sobre todos los valores en\n",
        "filas, columnas o una selección de ambas.\n",
        "\n",
        "\n",
        "Lógicamente una operación entre columnas significa que se aplica a cada fila de esa columna y una operación entre filas significa que se aplica a cada columna de esa fila."
      ]
    },
    {
      "cell_type": "code",
      "metadata": {
        "id": "8aWOfDyVbKrt",
        "colab": {
          "base_uri": "https://localhost:8080/"
        },
        "outputId": "36031c94-d1ad-4937-d805-5b9354e8842d"
      },
      "source": [
        "press = data['resting_blood_pressure'] / 10\n",
        "press.head()"
      ],
      "execution_count": null,
      "outputs": [
        {
          "output_type": "execute_result",
          "data": {
            "text/plain": [
              "patient_id\n",
              "0z64un    12.8\n",
              "ryoo3j    11.0\n",
              "yt1s1x    12.5\n",
              "l2xjde    15.2\n",
              "oyt4ek    17.8\n",
              "Name: resting_blood_pressure, dtype: float64"
            ]
          },
          "metadata": {},
          "execution_count": 16
        }
      ]
    },
    {
      "cell_type": "markdown",
      "metadata": {
        "id": "kYZ7Hqhabw2L"
      },
      "source": [
        "También podemos aplicar funciones algo más complejas (logaritmos, raíces cuadradas, etc.) utilizando el método *apply*"
      ]
    },
    {
      "cell_type": "code",
      "metadata": {
        "id": "6cxn4byLbb8V",
        "colab": {
          "base_uri": "https://localhost:8080/"
        },
        "outputId": "89357c26-2146-4df0-e3fb-dcb3bb692bef"
      },
      "source": [
        "import numpy as np\n",
        "log_col = data['serum_cholesterol_mg_per_dl'].apply(np.log)\n",
        "log_col.head()"
      ],
      "execution_count": null,
      "outputs": [
        {
          "output_type": "execute_result",
          "data": {
            "text/plain": [
              "patient_id\n",
              "0z64un    5.730100\n",
              "ryoo3j    5.365976\n",
              "yt1s1x    5.717028\n",
              "l2xjde    5.407172\n",
              "oyt4ek    5.598422\n",
              "Name: serum_cholesterol_mg_per_dl, dtype: float64"
            ]
          },
          "metadata": {},
          "execution_count": 17
        }
      ]
    },
    {
      "cell_type": "markdown",
      "metadata": {
        "id": "LVdLJtBOcQni"
      },
      "source": [
        "o funciones lambda"
      ]
    },
    {
      "cell_type": "code",
      "metadata": {
        "id": "cWuiHiJwcUK0",
        "colab": {
          "base_uri": "https://localhost:8080/"
        },
        "outputId": "2f79da49-848b-40be-cd98-fa8c75eab93d"
      },
      "source": [
        "s = data['serum_cholesterol_mg_per_dl']. apply(lambda d: d**2)\n",
        "s.head ()"
      ],
      "execution_count": null,
      "outputs": [
        {
          "output_type": "execute_result",
          "data": {
            "text/plain": [
              "patient_id\n",
              "0z64un    94864\n",
              "ryoo3j    45796\n",
              "yt1s1x    92416\n",
              "l2xjde    49729\n",
              "oyt4ek    72900\n",
              "Name: serum_cholesterol_mg_per_dl, dtype: int64"
            ]
          },
          "metadata": {},
          "execution_count": 18
        }
      ]
    },
    {
      "cell_type": "markdown",
      "metadata": {
        "id": "7eDICBmcce93"
      },
      "source": [
        "También podemos añadir nuevas variables calculadas a partir de las anteriores"
      ]
    },
    {
      "cell_type": "code",
      "metadata": {
        "id": "u3F7LDbzcjmU",
        "colab": {
          "base_uri": "https://localhost:8080/",
          "height": 255
        },
        "outputId": "f235e1dc-2d06-4af5-8a0c-03466349c077"
      },
      "source": [
        "data['cholesterol_norm'] = data['serum_cholesterol_mg_per_dl'] / data['serum_cholesterol_mg_per_dl'].max()\n",
        "data.tail()"
      ],
      "execution_count": null,
      "outputs": [
        {
          "output_type": "execute_result",
          "data": {
            "text/html": [
              "<div>\n",
              "<style scoped>\n",
              "    .dataframe tbody tr th:only-of-type {\n",
              "        vertical-align: middle;\n",
              "    }\n",
              "\n",
              "    .dataframe tbody tr th {\n",
              "        vertical-align: top;\n",
              "    }\n",
              "\n",
              "    .dataframe thead th {\n",
              "        text-align: right;\n",
              "    }\n",
              "</style>\n",
              "<table border=\"1\" class=\"dataframe\">\n",
              "  <thead>\n",
              "    <tr style=\"text-align: right;\">\n",
              "      <th></th>\n",
              "      <th>slope_of_peak_exercise_st_segment</th>\n",
              "      <th>thal</th>\n",
              "      <th>resting_blood_pressure</th>\n",
              "      <th>chest_pain_type</th>\n",
              "      <th>num_major_vessels</th>\n",
              "      <th>fasting_blood_sugar_gt_120_mg_per_dl</th>\n",
              "      <th>resting_ekg_results</th>\n",
              "      <th>serum_cholesterol_mg_per_dl</th>\n",
              "      <th>oldpeak_eq_st_depression</th>\n",
              "      <th>sex</th>\n",
              "      <th>age</th>\n",
              "      <th>max_heart_rate_achieved</th>\n",
              "      <th>exercise_induced_angina</th>\n",
              "      <th>cholesterol_norm</th>\n",
              "    </tr>\n",
              "    <tr>\n",
              "      <th>patient_id</th>\n",
              "      <th></th>\n",
              "      <th></th>\n",
              "      <th></th>\n",
              "      <th></th>\n",
              "      <th></th>\n",
              "      <th></th>\n",
              "      <th></th>\n",
              "      <th></th>\n",
              "      <th></th>\n",
              "      <th></th>\n",
              "      <th></th>\n",
              "      <th></th>\n",
              "      <th></th>\n",
              "      <th></th>\n",
              "    </tr>\n",
              "  </thead>\n",
              "  <tbody>\n",
              "    <tr>\n",
              "      <th>5qfar3</th>\n",
              "      <td>2</td>\n",
              "      <td>reversible_defect</td>\n",
              "      <td>125</td>\n",
              "      <td>4</td>\n",
              "      <td>2</td>\n",
              "      <td>1</td>\n",
              "      <td>0</td>\n",
              "      <td>254</td>\n",
              "      <td>0.2</td>\n",
              "      <td>1</td>\n",
              "      <td>67</td>\n",
              "      <td>163</td>\n",
              "      <td>0</td>\n",
              "      <td>0.450355</td>\n",
              "    </tr>\n",
              "    <tr>\n",
              "      <th>2s2b1f</th>\n",
              "      <td>2</td>\n",
              "      <td>normal</td>\n",
              "      <td>180</td>\n",
              "      <td>4</td>\n",
              "      <td>0</td>\n",
              "      <td>0</td>\n",
              "      <td>1</td>\n",
              "      <td>327</td>\n",
              "      <td>3.4</td>\n",
              "      <td>0</td>\n",
              "      <td>55</td>\n",
              "      <td>117</td>\n",
              "      <td>1</td>\n",
              "      <td>0.579787</td>\n",
              "    </tr>\n",
              "    <tr>\n",
              "      <th>nsd00i</th>\n",
              "      <td>2</td>\n",
              "      <td>reversible_defect</td>\n",
              "      <td>125</td>\n",
              "      <td>3</td>\n",
              "      <td>0</td>\n",
              "      <td>0</td>\n",
              "      <td>0</td>\n",
              "      <td>309</td>\n",
              "      <td>1.8</td>\n",
              "      <td>1</td>\n",
              "      <td>64</td>\n",
              "      <td>131</td>\n",
              "      <td>1</td>\n",
              "      <td>0.547872</td>\n",
              "    </tr>\n",
              "    <tr>\n",
              "      <th>0xw93k</th>\n",
              "      <td>1</td>\n",
              "      <td>normal</td>\n",
              "      <td>124</td>\n",
              "      <td>3</td>\n",
              "      <td>2</td>\n",
              "      <td>1</td>\n",
              "      <td>0</td>\n",
              "      <td>255</td>\n",
              "      <td>0.0</td>\n",
              "      <td>1</td>\n",
              "      <td>48</td>\n",
              "      <td>175</td>\n",
              "      <td>0</td>\n",
              "      <td>0.452128</td>\n",
              "    </tr>\n",
              "    <tr>\n",
              "      <th>2nx10r</th>\n",
              "      <td>1</td>\n",
              "      <td>normal</td>\n",
              "      <td>160</td>\n",
              "      <td>3</td>\n",
              "      <td>1</td>\n",
              "      <td>0</td>\n",
              "      <td>0</td>\n",
              "      <td>201</td>\n",
              "      <td>0.0</td>\n",
              "      <td>0</td>\n",
              "      <td>54</td>\n",
              "      <td>163</td>\n",
              "      <td>0</td>\n",
              "      <td>0.356383</td>\n",
              "    </tr>\n",
              "  </tbody>\n",
              "</table>\n",
              "</div>"
            ],
            "text/plain": [
              "           slope_of_peak_exercise_st_segment  ... cholesterol_norm\n",
              "patient_id                                    ...                 \n",
              "5qfar3                                     2  ...         0.450355\n",
              "2s2b1f                                     2  ...         0.579787\n",
              "nsd00i                                     2  ...         0.547872\n",
              "0xw93k                                     1  ...         0.452128\n",
              "2nx10r                                     1  ...         0.356383\n",
              "\n",
              "[5 rows x 14 columns]"
            ]
          },
          "metadata": {},
          "execution_count": 19
        }
      ]
    },
    {
      "cell_type": "markdown",
      "metadata": {
        "id": "L77RR354eM-i"
      },
      "source": [
        "Ahora, si queremos quitar esta columna del DataFrame, podemos usar el método  *drop()* eliminandose así las filas (*axis = 0*) o las columnas (*axis = 1*) indicadas. \n",
        "\n",
        "Hay que tener en cuenta que en Pandas, todas las funciones que cambian el contenido de un DataFrame normalmente devuelven una copia de los datos modificados, en lugar de sobreescribiendo el DataFrame, con el fin de mantener el DataFrame original. \n",
        "\n",
        "Si no quieres mantener los valores antiguos hay que establecer el parámetro *inplace = True* "
      ]
    },
    {
      "cell_type": "code",
      "metadata": {
        "id": "xt3Wv-YqeoiQ",
        "colab": {
          "base_uri": "https://localhost:8080/",
          "height": 255
        },
        "outputId": "457a9291-5533-4704-8693-6e8e1d360b1b"
      },
      "source": [
        "data.drop('cholesterol_norm', axis = 1, inplace = True)\n",
        "data.head()"
      ],
      "execution_count": null,
      "outputs": [
        {
          "output_type": "execute_result",
          "data": {
            "text/html": [
              "<div>\n",
              "<style scoped>\n",
              "    .dataframe tbody tr th:only-of-type {\n",
              "        vertical-align: middle;\n",
              "    }\n",
              "\n",
              "    .dataframe tbody tr th {\n",
              "        vertical-align: top;\n",
              "    }\n",
              "\n",
              "    .dataframe thead th {\n",
              "        text-align: right;\n",
              "    }\n",
              "</style>\n",
              "<table border=\"1\" class=\"dataframe\">\n",
              "  <thead>\n",
              "    <tr style=\"text-align: right;\">\n",
              "      <th></th>\n",
              "      <th>slope_of_peak_exercise_st_segment</th>\n",
              "      <th>thal</th>\n",
              "      <th>resting_blood_pressure</th>\n",
              "      <th>chest_pain_type</th>\n",
              "      <th>num_major_vessels</th>\n",
              "      <th>fasting_blood_sugar_gt_120_mg_per_dl</th>\n",
              "      <th>resting_ekg_results</th>\n",
              "      <th>serum_cholesterol_mg_per_dl</th>\n",
              "      <th>oldpeak_eq_st_depression</th>\n",
              "      <th>sex</th>\n",
              "      <th>age</th>\n",
              "      <th>max_heart_rate_achieved</th>\n",
              "      <th>exercise_induced_angina</th>\n",
              "    </tr>\n",
              "    <tr>\n",
              "      <th>patient_id</th>\n",
              "      <th></th>\n",
              "      <th></th>\n",
              "      <th></th>\n",
              "      <th></th>\n",
              "      <th></th>\n",
              "      <th></th>\n",
              "      <th></th>\n",
              "      <th></th>\n",
              "      <th></th>\n",
              "      <th></th>\n",
              "      <th></th>\n",
              "      <th></th>\n",
              "      <th></th>\n",
              "    </tr>\n",
              "  </thead>\n",
              "  <tbody>\n",
              "    <tr>\n",
              "      <th>0z64un</th>\n",
              "      <td>1</td>\n",
              "      <td>normal</td>\n",
              "      <td>128</td>\n",
              "      <td>2</td>\n",
              "      <td>0</td>\n",
              "      <td>0</td>\n",
              "      <td>2</td>\n",
              "      <td>308</td>\n",
              "      <td>0.0</td>\n",
              "      <td>1</td>\n",
              "      <td>45</td>\n",
              "      <td>170</td>\n",
              "      <td>0</td>\n",
              "    </tr>\n",
              "    <tr>\n",
              "      <th>ryoo3j</th>\n",
              "      <td>2</td>\n",
              "      <td>normal</td>\n",
              "      <td>110</td>\n",
              "      <td>3</td>\n",
              "      <td>0</td>\n",
              "      <td>0</td>\n",
              "      <td>0</td>\n",
              "      <td>214</td>\n",
              "      <td>1.6</td>\n",
              "      <td>0</td>\n",
              "      <td>54</td>\n",
              "      <td>158</td>\n",
              "      <td>0</td>\n",
              "    </tr>\n",
              "    <tr>\n",
              "      <th>yt1s1x</th>\n",
              "      <td>1</td>\n",
              "      <td>normal</td>\n",
              "      <td>125</td>\n",
              "      <td>4</td>\n",
              "      <td>3</td>\n",
              "      <td>0</td>\n",
              "      <td>2</td>\n",
              "      <td>304</td>\n",
              "      <td>0.0</td>\n",
              "      <td>1</td>\n",
              "      <td>77</td>\n",
              "      <td>162</td>\n",
              "      <td>1</td>\n",
              "    </tr>\n",
              "    <tr>\n",
              "      <th>l2xjde</th>\n",
              "      <td>1</td>\n",
              "      <td>reversible_defect</td>\n",
              "      <td>152</td>\n",
              "      <td>4</td>\n",
              "      <td>0</td>\n",
              "      <td>0</td>\n",
              "      <td>0</td>\n",
              "      <td>223</td>\n",
              "      <td>0.0</td>\n",
              "      <td>1</td>\n",
              "      <td>40</td>\n",
              "      <td>181</td>\n",
              "      <td>0</td>\n",
              "    </tr>\n",
              "    <tr>\n",
              "      <th>oyt4ek</th>\n",
              "      <td>3</td>\n",
              "      <td>reversible_defect</td>\n",
              "      <td>178</td>\n",
              "      <td>1</td>\n",
              "      <td>0</td>\n",
              "      <td>0</td>\n",
              "      <td>2</td>\n",
              "      <td>270</td>\n",
              "      <td>4.2</td>\n",
              "      <td>1</td>\n",
              "      <td>59</td>\n",
              "      <td>145</td>\n",
              "      <td>0</td>\n",
              "    </tr>\n",
              "  </tbody>\n",
              "</table>\n",
              "</div>"
            ],
            "text/plain": [
              "           slope_of_peak_exercise_st_segment  ... exercise_induced_angina\n",
              "patient_id                                    ...                        \n",
              "0z64un                                     1  ...                       0\n",
              "ryoo3j                                     2  ...                       0\n",
              "yt1s1x                                     1  ...                       1\n",
              "l2xjde                                     1  ...                       0\n",
              "oyt4ek                                     3  ...                       0\n",
              "\n",
              "[5 rows x 13 columns]"
            ]
          },
          "metadata": {},
          "execution_count": 20
        }
      ]
    },
    {
      "cell_type": "markdown",
      "metadata": {
        "id": "3-Fe4RNxlW6M"
      },
      "source": [
        "Podemos añadir también otro tipo de transformaciones de las variables, por ejemplo, **el *corte* que implica el establecer intervalos para los valores de una variable numérica**. En nuestro ejemplo podría ser *age*"
      ]
    },
    {
      "cell_type": "code",
      "metadata": {
        "id": "Pp_rsIzRlhDS",
        "colab": {
          "base_uri": "https://localhost:8080/",
          "height": 340
        },
        "outputId": "6789956f-289a-4b76-8782-9db6a434d87f"
      },
      "source": [
        "data['age_cat'] = pd.cut(data['age'], 8)\n",
        "data.head()"
      ],
      "execution_count": null,
      "outputs": [
        {
          "output_type": "execute_result",
          "data": {
            "text/html": [
              "<div>\n",
              "<style scoped>\n",
              "    .dataframe tbody tr th:only-of-type {\n",
              "        vertical-align: middle;\n",
              "    }\n",
              "\n",
              "    .dataframe tbody tr th {\n",
              "        vertical-align: top;\n",
              "    }\n",
              "\n",
              "    .dataframe thead th {\n",
              "        text-align: right;\n",
              "    }\n",
              "</style>\n",
              "<table border=\"1\" class=\"dataframe\">\n",
              "  <thead>\n",
              "    <tr style=\"text-align: right;\">\n",
              "      <th></th>\n",
              "      <th>slope_of_peak_exercise_st_segment</th>\n",
              "      <th>thal</th>\n",
              "      <th>resting_blood_pressure</th>\n",
              "      <th>chest_pain_type</th>\n",
              "      <th>num_major_vessels</th>\n",
              "      <th>fasting_blood_sugar_gt_120_mg_per_dl</th>\n",
              "      <th>resting_ekg_results</th>\n",
              "      <th>serum_cholesterol_mg_per_dl</th>\n",
              "      <th>oldpeak_eq_st_depression</th>\n",
              "      <th>sex</th>\n",
              "      <th>age</th>\n",
              "      <th>max_heart_rate_achieved</th>\n",
              "      <th>exercise_induced_angina</th>\n",
              "      <th>age_cat</th>\n",
              "    </tr>\n",
              "    <tr>\n",
              "      <th>patient_id</th>\n",
              "      <th></th>\n",
              "      <th></th>\n",
              "      <th></th>\n",
              "      <th></th>\n",
              "      <th></th>\n",
              "      <th></th>\n",
              "      <th></th>\n",
              "      <th></th>\n",
              "      <th></th>\n",
              "      <th></th>\n",
              "      <th></th>\n",
              "      <th></th>\n",
              "      <th></th>\n",
              "      <th></th>\n",
              "    </tr>\n",
              "  </thead>\n",
              "  <tbody>\n",
              "    <tr>\n",
              "      <th>0z64un</th>\n",
              "      <td>1</td>\n",
              "      <td>normal</td>\n",
              "      <td>128</td>\n",
              "      <td>2</td>\n",
              "      <td>0</td>\n",
              "      <td>0</td>\n",
              "      <td>2</td>\n",
              "      <td>308</td>\n",
              "      <td>0.0</td>\n",
              "      <td>1</td>\n",
              "      <td>45</td>\n",
              "      <td>170</td>\n",
              "      <td>0</td>\n",
              "      <td>(41.0, 47.0]</td>\n",
              "    </tr>\n",
              "    <tr>\n",
              "      <th>ryoo3j</th>\n",
              "      <td>2</td>\n",
              "      <td>normal</td>\n",
              "      <td>110</td>\n",
              "      <td>3</td>\n",
              "      <td>0</td>\n",
              "      <td>0</td>\n",
              "      <td>0</td>\n",
              "      <td>214</td>\n",
              "      <td>1.6</td>\n",
              "      <td>0</td>\n",
              "      <td>54</td>\n",
              "      <td>158</td>\n",
              "      <td>0</td>\n",
              "      <td>(53.0, 59.0]</td>\n",
              "    </tr>\n",
              "    <tr>\n",
              "      <th>yt1s1x</th>\n",
              "      <td>1</td>\n",
              "      <td>normal</td>\n",
              "      <td>125</td>\n",
              "      <td>4</td>\n",
              "      <td>3</td>\n",
              "      <td>0</td>\n",
              "      <td>2</td>\n",
              "      <td>304</td>\n",
              "      <td>0.0</td>\n",
              "      <td>1</td>\n",
              "      <td>77</td>\n",
              "      <td>162</td>\n",
              "      <td>1</td>\n",
              "      <td>(71.0, 77.0]</td>\n",
              "    </tr>\n",
              "    <tr>\n",
              "      <th>l2xjde</th>\n",
              "      <td>1</td>\n",
              "      <td>reversible_defect</td>\n",
              "      <td>152</td>\n",
              "      <td>4</td>\n",
              "      <td>0</td>\n",
              "      <td>0</td>\n",
              "      <td>0</td>\n",
              "      <td>223</td>\n",
              "      <td>0.0</td>\n",
              "      <td>1</td>\n",
              "      <td>40</td>\n",
              "      <td>181</td>\n",
              "      <td>0</td>\n",
              "      <td>(35.0, 41.0]</td>\n",
              "    </tr>\n",
              "    <tr>\n",
              "      <th>oyt4ek</th>\n",
              "      <td>3</td>\n",
              "      <td>reversible_defect</td>\n",
              "      <td>178</td>\n",
              "      <td>1</td>\n",
              "      <td>0</td>\n",
              "      <td>0</td>\n",
              "      <td>2</td>\n",
              "      <td>270</td>\n",
              "      <td>4.2</td>\n",
              "      <td>1</td>\n",
              "      <td>59</td>\n",
              "      <td>145</td>\n",
              "      <td>0</td>\n",
              "      <td>(53.0, 59.0]</td>\n",
              "    </tr>\n",
              "  </tbody>\n",
              "</table>\n",
              "</div>"
            ],
            "text/plain": [
              "           slope_of_peak_exercise_st_segment  ...       age_cat\n",
              "patient_id                                    ...              \n",
              "0z64un                                     1  ...  (41.0, 47.0]\n",
              "ryoo3j                                     2  ...  (53.0, 59.0]\n",
              "yt1s1x                                     1  ...  (71.0, 77.0]\n",
              "l2xjde                                     1  ...  (35.0, 41.0]\n",
              "oyt4ek                                     3  ...  (53.0, 59.0]\n",
              "\n",
              "[5 rows x 14 columns]"
            ]
          },
          "metadata": {},
          "execution_count": 21
        }
      ]
    },
    {
      "cell_type": "code",
      "metadata": {
        "id": "3gPR4auupCTf",
        "colab": {
          "base_uri": "https://localhost:8080/"
        },
        "outputId": "e06217e1-a6a2-4c3a-ffb8-4f7482c43ebf"
      },
      "source": [
        "data['age_cat'].unique()"
      ],
      "execution_count": null,
      "outputs": [
        {
          "output_type": "execute_result",
          "data": {
            "text/plain": [
              "[(41.0, 47.0], (53.0, 59.0], (71.0, 77.0], (35.0, 41.0], (59.0, 65.0], (47.0, 53.0], (65.0, 71.0], (28.952, 35.0]]\n",
              "Categories (8, interval[float64]): [(28.952, 35.0] < (35.0, 41.0] < (41.0, 47.0] < (47.0, 53.0] <\n",
              "                                    (53.0, 59.0] < (59.0, 65.0] < (65.0, 71.0] < (71.0, 77.0]]"
            ]
          },
          "metadata": {},
          "execution_count": 22
        }
      ]
    },
    {
      "cell_type": "markdown",
      "metadata": {
        "id": "2wuZi7jse79s"
      },
      "source": [
        "## Otras Manipulaciones"
      ]
    },
    {
      "cell_type": "markdown",
      "metadata": {
        "id": "t39c0VNKfNNg"
      },
      "source": [
        "\n",
        "Muchas veces necesitaremos agrupar los datos según diferentes criterios.  En nuestro ejemplo podría ser la variable *thal* o por *age*. \n",
        "\n",
        "Para ello Pandas tiene una función *groupby*"
      ]
    },
    {
      "cell_type": "code",
      "metadata": {
        "id": "pRoJJTubfr93",
        "colab": {
          "base_uri": "https://localhost:8080/",
          "height": 328
        },
        "outputId": "673b7f86-ca1b-4419-fd51-aad22022699d"
      },
      "source": [
        "group = data[['age_cat', 'serum_cholesterol_mg_per_dl']].groupby('age_cat').mean()\n",
        "group.head(10)\n",
        "\n"
      ],
      "execution_count": null,
      "outputs": [
        {
          "output_type": "execute_result",
          "data": {
            "text/html": [
              "<div>\n",
              "<style scoped>\n",
              "    .dataframe tbody tr th:only-of-type {\n",
              "        vertical-align: middle;\n",
              "    }\n",
              "\n",
              "    .dataframe tbody tr th {\n",
              "        vertical-align: top;\n",
              "    }\n",
              "\n",
              "    .dataframe thead th {\n",
              "        text-align: right;\n",
              "    }\n",
              "</style>\n",
              "<table border=\"1\" class=\"dataframe\">\n",
              "  <thead>\n",
              "    <tr style=\"text-align: right;\">\n",
              "      <th></th>\n",
              "      <th>serum_cholesterol_mg_per_dl</th>\n",
              "    </tr>\n",
              "    <tr>\n",
              "      <th>age_cat</th>\n",
              "      <th></th>\n",
              "    </tr>\n",
              "  </thead>\n",
              "  <tbody>\n",
              "    <tr>\n",
              "      <th>(28.952, 35.0]</th>\n",
              "      <td>223.500000</td>\n",
              "    </tr>\n",
              "    <tr>\n",
              "      <th>(35.0, 41.0]</th>\n",
              "      <td>222.000000</td>\n",
              "    </tr>\n",
              "    <tr>\n",
              "      <th>(41.0, 47.0]</th>\n",
              "      <td>242.640000</td>\n",
              "    </tr>\n",
              "    <tr>\n",
              "      <th>(47.0, 53.0]</th>\n",
              "      <td>237.125000</td>\n",
              "    </tr>\n",
              "    <tr>\n",
              "      <th>(53.0, 59.0]</th>\n",
              "      <td>250.847826</td>\n",
              "    </tr>\n",
              "    <tr>\n",
              "      <th>(59.0, 65.0]</th>\n",
              "      <td>263.432432</td>\n",
              "    </tr>\n",
              "    <tr>\n",
              "      <th>(65.0, 71.0]</th>\n",
              "      <td>265.000000</td>\n",
              "    </tr>\n",
              "    <tr>\n",
              "      <th>(71.0, 77.0]</th>\n",
              "      <td>286.500000</td>\n",
              "    </tr>\n",
              "  </tbody>\n",
              "</table>\n",
              "</div>"
            ],
            "text/plain": [
              "                serum_cholesterol_mg_per_dl\n",
              "age_cat                                    \n",
              "(28.952, 35.0]                   223.500000\n",
              "(35.0, 41.0]                     222.000000\n",
              "(41.0, 47.0]                     242.640000\n",
              "(47.0, 53.0]                     237.125000\n",
              "(53.0, 59.0]                     250.847826\n",
              "(59.0, 65.0]                     263.432432\n",
              "(65.0, 71.0]                     265.000000\n",
              "(71.0, 77.0]                     286.500000"
            ]
          },
          "metadata": {},
          "execution_count": 23
        }
      ]
    },
    {
      "cell_type": "code",
      "metadata": {
        "id": "HKpyZL_qj9QJ",
        "colab": {
          "base_uri": "https://localhost:8080/"
        },
        "outputId": "be1612ef-68f3-45b6-ad37-76a8074c9f44"
      },
      "source": [
        "counts = data.groupby('age_cat').size ()\n",
        "counts"
      ],
      "execution_count": null,
      "outputs": [
        {
          "output_type": "execute_result",
          "data": {
            "text/plain": [
              "age_cat\n",
              "(28.952, 35.0]     4\n",
              "(35.0, 41.0]      13\n",
              "(41.0, 47.0]      25\n",
              "(47.0, 53.0]      32\n",
              "(53.0, 59.0]      46\n",
              "(59.0, 65.0]      37\n",
              "(65.0, 71.0]      21\n",
              "(71.0, 77.0]       2\n",
              "dtype: int64"
            ]
          },
          "metadata": {},
          "execution_count": 24
        }
      ]
    },
    {
      "cell_type": "markdown",
      "metadata": {
        "id": "hDvpHZ9BgJWj"
      },
      "source": [
        "Otras veces para construir nuestra \"Tarjeta de Datos\" necesitamos hacer un pivotaje de la tabla que tenemos, es decir, construir un nuevo data set con nuevas filas, columnas y valores que resultan del pivotado de los datos obtenido. Esto es muy común cuando tenemos datos con una granularidad fina y los elementos a estudiar son de más alto nivel. \n"
      ]
    },
    {
      "cell_type": "code",
      "metadata": {
        "id": "NifvuTzzhA8s",
        "colab": {
          "base_uri": "https://localhost:8080/",
          "height": 328
        },
        "outputId": "e9e41832-6f27-4e57-c0c1-b3709d305749"
      },
      "source": [
        "import numpy as np\n",
        "pivdata = pd.pivot_table(data, values = 'serum_cholesterol_mg_per_dl',\n",
        "                        index = ['age_cat'], \n",
        "                        columns = ['thal'], aggfunc = np.mean)\n",
        "pivdata\n"
      ],
      "execution_count": null,
      "outputs": [
        {
          "output_type": "execute_result",
          "data": {
            "text/html": [
              "<div>\n",
              "<style scoped>\n",
              "    .dataframe tbody tr th:only-of-type {\n",
              "        vertical-align: middle;\n",
              "    }\n",
              "\n",
              "    .dataframe tbody tr th {\n",
              "        vertical-align: top;\n",
              "    }\n",
              "\n",
              "    .dataframe thead th {\n",
              "        text-align: right;\n",
              "    }\n",
              "</style>\n",
              "<table border=\"1\" class=\"dataframe\">\n",
              "  <thead>\n",
              "    <tr style=\"text-align: right;\">\n",
              "      <th>thal</th>\n",
              "      <th>fixed_defect</th>\n",
              "      <th>normal</th>\n",
              "      <th>reversible_defect</th>\n",
              "    </tr>\n",
              "    <tr>\n",
              "      <th>age_cat</th>\n",
              "      <th></th>\n",
              "      <th></th>\n",
              "      <th></th>\n",
              "    </tr>\n",
              "  </thead>\n",
              "  <tbody>\n",
              "    <tr>\n",
              "      <th>(28.952, 35.0]</th>\n",
              "      <td>NaN</td>\n",
              "      <td>207.000000</td>\n",
              "      <td>240.000000</td>\n",
              "    </tr>\n",
              "    <tr>\n",
              "      <th>(35.0, 41.0]</th>\n",
              "      <td>203.0</td>\n",
              "      <td>245.333333</td>\n",
              "      <td>201.833333</td>\n",
              "    </tr>\n",
              "    <tr>\n",
              "      <th>(41.0, 47.0]</th>\n",
              "      <td>NaN</td>\n",
              "      <td>234.952381</td>\n",
              "      <td>283.000000</td>\n",
              "    </tr>\n",
              "    <tr>\n",
              "      <th>(47.0, 53.0]</th>\n",
              "      <td>NaN</td>\n",
              "      <td>233.111111</td>\n",
              "      <td>242.285714</td>\n",
              "    </tr>\n",
              "    <tr>\n",
              "      <th>(53.0, 59.0]</th>\n",
              "      <td>235.5</td>\n",
              "      <td>260.941176</td>\n",
              "      <td>246.440000</td>\n",
              "    </tr>\n",
              "    <tr>\n",
              "      <th>(59.0, 65.0]</th>\n",
              "      <td>222.5</td>\n",
              "      <td>274.111111</td>\n",
              "      <td>256.941176</td>\n",
              "    </tr>\n",
              "    <tr>\n",
              "      <th>(65.0, 71.0]</th>\n",
              "      <td>228.0</td>\n",
              "      <td>254.714286</td>\n",
              "      <td>295.166667</td>\n",
              "    </tr>\n",
              "    <tr>\n",
              "      <th>(71.0, 77.0]</th>\n",
              "      <td>NaN</td>\n",
              "      <td>286.500000</td>\n",
              "      <td>NaN</td>\n",
              "    </tr>\n",
              "  </tbody>\n",
              "</table>\n",
              "</div>"
            ],
            "text/plain": [
              "thal            fixed_defect      normal  reversible_defect\n",
              "age_cat                                                    \n",
              "(28.952, 35.0]           NaN  207.000000         240.000000\n",
              "(35.0, 41.0]           203.0  245.333333         201.833333\n",
              "(41.0, 47.0]             NaN  234.952381         283.000000\n",
              "(47.0, 53.0]             NaN  233.111111         242.285714\n",
              "(53.0, 59.0]           235.5  260.941176         246.440000\n",
              "(59.0, 65.0]           222.5  274.111111         256.941176\n",
              "(65.0, 71.0]           228.0  254.714286         295.166667\n",
              "(71.0, 77.0]             NaN  286.500000                NaN"
            ]
          },
          "metadata": {},
          "execution_count": 25
        }
      ]
    },
    {
      "cell_type": "markdown",
      "metadata": {
        "id": "I3NoZ4HwmS5c"
      },
      "source": [
        "## Gráficos\n",
        "\n",
        "Podemos utilizar la librería matplotlib para hacer gráficos a partir de nuestros datos, los originales o los que hemos creado por transformación o pivotaje. "
      ]
    },
    {
      "cell_type": "code",
      "metadata": {
        "id": "C3zx7MsAmUb0",
        "colab": {
          "base_uri": "https://localhost:8080/",
          "height": 445
        },
        "outputId": "17447a7d-822c-48eb-df0d-de9f000829b7"
      },
      "source": [
        "import matplotlib.pyplot as plt\n",
        "import matplotlib as mpl\n",
        "mpl.style.use(\"seaborn\")\n",
        "\n",
        "mean = pivdata.mean(axis = 1).sort_values(ascending = False)\n",
        "\n",
        "mean.plot(kind = 'bar', style = 'b', alpha = 0.4,\n",
        "title = \"Total Values for Age\")\n",
        "\n"
      ],
      "execution_count": null,
      "outputs": [
        {
          "output_type": "execute_result",
          "data": {
            "text/plain": [
              "<matplotlib.axes._subplots.AxesSubplot at 0x7f82ab3fe410>"
            ]
          },
          "metadata": {},
          "execution_count": 26
        },
        {
          "output_type": "display_data",
          "data": {
            "image/png": "[encoded data removed]",
            "text/plain": [
              "<Figure size 576x396 with 1 Axes>"
            ]
          },
          "metadata": {}
        }
      ]
    },
    {
      "cell_type": "code",
      "metadata": {
        "id": "VGx-V2x0muhp",
        "colab": {
          "base_uri": "https://localhost:8080/",
          "height": 364
        },
        "outputId": "5588355c-888c-4da5-834c-0f725e78de16"
      },
      "source": [
        "my_colors = ['b', 'r', 'g', 'y', 'm', 'c']\n",
        "ax = pivdata.plot(kind = 'barh',stacked = True , color = my_colors)\n",
        "ax.legend(loc = 'center left', bbox_to_anchor = (1, .5))"
      ],
      "execution_count": null,
      "outputs": [
        {
          "output_type": "execute_result",
          "data": {
            "text/plain": [
              "<matplotlib.legend.Legend at 0x7f82ab311f90>"
            ]
          },
          "metadata": {},
          "execution_count": 27
        },
        {
          "output_type": "display_data",
          "data": {
            "image/png": "[encoded data removed]",
            "text/plain": [
              "<Figure size 576x396 with 1 Axes>"
            ]
          },
          "metadata": {}
        }
      ]
    }
  ]
}