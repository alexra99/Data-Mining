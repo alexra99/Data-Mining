{
  "cells": [
    {
      "cell_type": "markdown",
      "metadata": {
        "id": "yNdk7T8HYty-"
      },
      "source": [
        "Sección de imports:\n"
      ]
    },
    {
      "cell_type": "code",
      "execution_count": null,
      "metadata": {
        "id": "HgwqSmpNYsAR"
      },
      "outputs": [],
      "source": [
        "from google.colab import files\n",
        "from numpy import true_divide\n",
        "import pandas as pd\n",
        "import requests\n",
        "import json"
      ]
    },
    {
      "cell_type": "markdown",
      "metadata": {
        "id": "29j3Ly3fmAnN"
      },
      "source": [
        "# Preproceso inicial\n",
        "\n",
        "Se ha decidido trabajar con los municipios de Madrid ya que se encontró una API (vía michelín) para estos que resultaba útil. Así que en primer lugar se filtran los registros de blablacar cuyo destino y origen es un municipio de Madrid con una lista de estos:\n",
        "\n",
        "\n",
        "Esta lista se ha obtenido scrapeando una tabla de wikipedia de los municipios de Madrid:*\n",
        "\n",
        "*Hay que destacar que el código mostrado en los primeros bloques NO está preparado para ejecutarse con colab, ya que fue algo hecho con python nativo, y por lo tanto no es recomendable su ejecución desde colab."
      ]
    },
    {
      "cell_type": "code",
      "execution_count": null,
      "metadata": {
        "id": "dX1PlAhJqR6Y"
      },
      "outputs": [],
      "source": [
        "table = pd.read_html('https://es.wikipedia.org/wiki/Anexo:Municipios_de_la_Comunidad_de_Madrid')\n",
        "\n",
        "ciudades = table[0]['Nombre']\n",
        "\n",
        "with open('ciudades.txt', 'a+', encoding=\"utf-8\") as f:\n",
        "    for i in ciudades:\n",
        "        f.write(i+'\\n')"
      ]
    },
    {
      "cell_type": "markdown",
      "metadata": {
        "id": "PzNFQpToqSez"
      },
      "source": [
        "Ya que algunos municipios tenían un formato diferente (el artículo del nombre del municipio se encontraba desposicionado y con paréntesis), lo cambiamos a mano para que los nombres coincidieran en el filtrado.\n",
        "\n",
        "Después de esto se realiza el filtrado:"
      ]
    },
    {
      "cell_type": "code",
      "execution_count": null,
      "metadata": {
        "id": "rCvWbwVXsL4U"
      },
      "outputs": [],
      "source": [
        "ciudades = []\n",
        "with open(\"ciudades.txt\", 'r',) as tf:\n",
        "    lines = tf.read().split('\\n')\n",
        "    \n",
        "for line in lines:\n",
        "    ciudades.append(line)\n",
        "\n",
        "df_bla = pd.read_csv('viajes.txt',skiprows=[1], sep=\"|\", encoding='utf-8', header=None)\n",
        "df_bla = df_bla.drop(columns = [0, 1, 4, 9, 10], axis = 1)\n",
        "df_bla = df_bla.drop([0], axis= 0)\n",
        "df_bla = df_bla.rename(columns={2: \"origen\", 3: \"destino\", 6:\"asientos\", 5:\"a_ofertados\", 7:\"v_ofertados\", 8:\"viajes\"})\n",
        "df_bla = df_bla.dropna()\n",
        "df_bla = df_bla[(df_bla.origen.isin(ciudades)) & df_bla.destino.isin(ciudades)]\n",
        "df_bla = df_bla.reset_index(drop=True)\n",
        "df_bla.to_csv('rutas_madrid.csv', encoding='utf-8')"
      ]
    },
    {
      "cell_type": "markdown",
      "metadata": {
        "id": "T553afF9sM0I"
      },
      "source": [
        "Como era necesario saber las coordenadas de cada municipio, se intentaron sacar con el módulo geopy, pero debido a que era necesario relizar muchas solicitudes, este se bloqueaba y no permitía realizar más, así que estas fueron scrapeadas también, y con ellas se creó un diccionario para revisar siempre que fuera necesario saberlas:*\n",
        "\n",
        "*Este programa también fue ejecutado en python nativo, así que tampoco es recomendable su ejecución en colab."
      ]
    },
    {
      "cell_type": "code",
      "execution_count": null,
      "metadata": {
        "id": "Ym6FjvlRturI"
      },
      "outputs": [],
      "source": [
        "table = pd.read_html('https://www.coordenadas.com.es/espana/pueblos-de-madrid/28/1')\n",
        "\n",
        "with open(\"coord.txt\", 'w') as output:\n",
        "    for row in table:        \n",
        "        output.write(str(row) + '\\n')"
      ]
    },
    {
      "cell_type": "markdown",
      "metadata": {
        "id": "I5ZtIZXncTF_"
      },
      "source": [
        "Con la cordenadas scrapeadas se procede a crear un diccionario para consultar en cualquier momento que sea necesario:"
      ]
    },
    {
      "cell_type": "code",
      "execution_count": null,
      "metadata": {
        "colab": {
          "base_uri": "https://localhost:8080/",
          "height": 146,
          "resources": {
            "http://localhost:8080/nbextensions/google.colab/files.js": {
              "data": "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",
              "headers": [
                [
                  "content-type",
                  "application/javascript"
                ]
              ],
              "ok": true,
              "status": 200,
              "status_text": ""
            }
          }
        },
        "id": "AB-YqXqodL4C",
        "outputId": "208534da-8d4c-4482-b4ff-1fd22a7c9a5b"
      },
      "outputs": [
        {
          "output_type": "display_data",
          "data": {
            "text/html": [
              "\n",
              "     <input type=\"file\" id=\"files-6d059e34-f516-4408-8757-fad720043582\" name=\"files[]\" multiple disabled\n",
              "        style=\"border:none\" />\n",
              "     <output id=\"result-6d059e34-f516-4408-8757-fad720043582\">\n",
              "      Upload widget is only available when the cell has been executed in the\n",
              "      current browser session. Please rerun this cell to enable.\n",
              "      </output>\n",
              "      <script src=\"/nbextensions/google.colab/files.js\"></script> "
            ],
            "text/plain": [
              "<IPython.core.display.HTML object>"
            ]
          },
          "metadata": {}
        },
        {
          "output_type": "stream",
          "name": "stdout",
          "text": [
            "Saving rutas_madrid.csv to rutas_madrid (1).csv\n",
            "Saving coord.csv to coord.csv\n",
            "Saving concentracion_accidentes.csv to concentracion_accidentes.csv\n",
            "User uploaded file \"rutas_madrid.csv\" with length 4291726 bytes\n",
            "User uploaded file \"coord.csv\" with length 6377 bytes\n",
            "User uploaded file \"concentracion_accidentes.csv\" with length 251 bytes\n"
          ]
        }
      ],
      "source": [
        "uploaded = files.upload()\n",
        "\n",
        "for fn in uploaded.keys():\n",
        "  print('User uploaded file \"{name}\" with length {length} bytes'.format(\n",
        "      name=fn, length=len(uploaded[fn])))"
      ]
    },
    {
      "cell_type": "code",
      "execution_count": null,
      "metadata": {
        "id": "LJLa_EYhh83z"
      },
      "outputs": [],
      "source": [
        "df_coord = pd.read_csv('coord.csv', sep=';')\n",
        "df_rutas = pd.read_csv('rutas_madrid.csv')\n",
        "\n",
        "df_tarjeta = df_rutas.groupby(['origen','destino'], as_index=False).aggregate({'a_ofertados': 'mean','v_ofertados':'mean'})\n",
        "\n",
        "cd = {}\n",
        "for element in df_coord.values:\n",
        "    cd[element[0]] = [float(element[1].replace(',','.')), float(element[2].replace(',','.'))]"
      ]
    },
    {
      "cell_type": "markdown",
      "source": [
        "Debido a un error obtenido en el fragmento de código de las peticiones (había un municipio cuyas coordenadas no estaban disponibles, ya fuera por un typo en el nombre del municipio o por falta de datos en el csv de las coordenadas), se realizó este trozo de código para eliminar algunos registros y evitar errores.\n"
      ],
      "metadata": {
        "id": "7kU0VxVqlIrN"
      }
    },
    {
      "cell_type": "code",
      "source": [
        "municipios_no_coord = []\n",
        "for ruta in df_tarjeta.values:\n",
        "  try:\n",
        "    c_origen = cd[ruta[0]]\n",
        "  except KeyError:\n",
        "    municipios_no_coord.append(ruta[0])\n",
        "  try:\n",
        "    c_destino = cd[ruta[1]]\n",
        "  except:\n",
        "    municipios_no_coord.append(ruta[1])\n",
        "\n",
        "for element in municipios_no_coord:\n",
        "  df_tarjeta = df_tarjeta[df_tarjeta[\"origen\"].str.contains(element)==False]\n",
        "  df_tarjeta = df_tarjeta[df_tarjeta[\"destino\"].str.contains(element)==False]\n",
        "  print(\"Líneas que contienen:\",element,\"han sido eliminadas.\")\n"
      ],
      "metadata": {
        "colab": {
          "base_uri": "https://localhost:8080/"
        },
        "id": "voU29OqWia1K",
        "outputId": "a1322d80-17e3-47ff-b9e2-7d76fbd53a69"
      },
      "execution_count": null,
      "outputs": [
        {
          "output_type": "stream",
          "name": "stdout",
          "text": [
            "Líneas que contienen: San Agustín del Guada han sido eliminadas.\n"
          ]
        }
      ]
    },
    {
      "cell_type": "markdown",
      "metadata": {
        "id": "LddaHrfEtvUp"
      },
      "source": [
        "Sabiendo las coordenadas de cada municipio y teniendo los trayectos, ya se pueden realizar solicitudes a la API que ha sido mencionada al principio para obtener las carreteras, distancias y tiempos: *\n",
        "\n",
        "*La ejecución de las requests es MUY lenta ya que son muchas, si es necesario ejecutar este primer bloque, asegurarse de que solo se realice una vez, tarda alrededor de unos 40min."
      ]
    },
    {
      "cell_type": "code",
      "execution_count": null,
      "metadata": {
        "id": "3GcYSdjuwXy_"
      },
      "outputs": [],
      "source": [
        "peticiones = []\n",
        "municipios_a_eliminar = []\n",
        "i = 0\n",
        "for ruta in df_tarjeta.values:\n",
        "  c_origen = cd[ruta[0]]\n",
        "  c_destino = cd[ruta[1]]\n",
        "  url = (\n",
        "        'https://secure-apir.viamichelin.com/apir/1/route.json/spa?steps=1:e:{}:{};1:e:{}:{}&multipleIt=true&callback=true&authkey=RESTGP20211210013403787883414137'\n",
        "    ).format(c_origen[1], c_origen[0], c_destino[1], c_destino[0])\n",
        "  peticiones.append(requests.get(url).content.decode('iso-8859-1'))"
      ]
    },
    {
      "cell_type": "code",
      "execution_count": null,
      "metadata": {
        "id": "H10uc-2Hi5lW",
        "colab": {
          "base_uri": "https://localhost:8080/"
        },
        "outputId": "ec02a5e9-102b-4f39-e8f3-81321011f45f"
      },
      "outputs": [
        {
          "output_type": "stream",
          "name": "stdout",
          "text": [
            "{'iti': {'header': {'vehicle': 0, 'itiType': 0, 'idx': 0, 'itidate': '2021-12-19T16:54:03.938Z', 'startMapDef': {'id': '-t44aay3br3h1md', 'size': {'w': 300, 'h': 300}}, 'destMapDef': {'id': '-t4wjgdpbn1h1md', 'size': {'w': 300, 'h': 300}}, 'summaries': [{'index': 0, 'names': ['M-100', 'Avenida de Daganzo'], 'totalDist': 14687.0, 'totalTime': 1122.0, 'motorwayDist': 6740.0, 'motorwayTime': 310.0, 'pleasantDist': 0.0, 'pleasantTime': 0.0, 'drivingDist': 14687.0, 'drivingTime': 1122.0, 'consumption': 1.99, 'carbonFootprintEstimation': 3.52, 'tollCost': {'moto': 0.0, 'car': 0.0, 'caravan': 0.0, 'pl2': 0.0, 'pl3': 0.0, 'pl4': 0.0, 'pl5': 0.0}, 'CCZCost': {'moto': 0.0, 'car': 0.0, 'caravan': 0.0, 'pl2': 0.0, 'pl3': 0.0, 'pl4': 0.0, 'pl5': 0.0}, 'fullMapDef': {'id': '-tutusvn6x0h1md', 'size': {'w': 600, 'h': 600}}, 'ecoTax': 0.0, 'ecoTaxDist': 0.0, 'ecoTaxRepercussionRate': 0.0, 'distanceByCountry': [], 'avoidClosedRoadUsed': False, 'eventTrafficDatabaseAvailable': False}]}, 'itineraryTrace': 'A_}zkvFj{fT?D|@MXf@x@g@x@_A\\\\eBXyDoX_Ry@mBw@kFRa@@a@Ga@Y_@SIiBeFe@cCMUx@y@dIiC~DcCvEyG~@uBl@kBn@wC^cDHsDDsGGetAK}|@DyAOcJJsB@iWn@{JzAqItAuEdDwHhDyEfEgEvM_InBeBfB}BxAiCp@wAfAmD`AuE|DcTnDwHlKwKd]yZl]iVhFuBnn@o`@z@Gp@LjBfAr@@`@In@}@Li@jAsHZe@VBf@KRUNw@?_@HuCzEkLrBuHVYpAmEXOJQBe@KYAq@lBcItDgJhFmKjDwH?ShDgGPDXEV[Bc@Ia@EGnIaQJc@dEaIh@ULHTEJ[EW`CaCPLR?PQDWCUGKnBsBvWq]JJRCDQGUMC_@oNSqCWqBmAoEqCyKdBsBd@]HPV?V]rHwEx@qF`FYV~GjA~Pb@lD{AV', 'ititraceLevels': 'P@BCADAFFBCA@C@BA@GBBEAD@BG@A@@ABAECBIBDCCAF@BC@ECGCECEABB@HB?CB@ADA?DBAAB@D@@CDAAAFC@BCA?C@AEAAC@BCB@D@?CABAGA@AA?D?F@CACADHEAADP', 'roadSheet': [[[1, 1, {'lon': -3.481019, 'lat': 40.534399}, 0.0, 0, 0.0, 0, 'Salida: Calle de la Fragua, Ajalvir', {'id': '-t0tm1z3br3h1md', 'size': {'w': 300, 'h': 300}}, ''], [2, 1, {'lon': -3.481019, 'lat': 40.534399}, 2.0, 1, 2.0, 1, 'A Ajalvir, coger :Plaza de la Villa', {'id': '-t0tm1z3br3h1md', 'size': {'w': 300, 'h': 300}}, 'pictoPedestrian'], [3, 1, {'lon': -3.481041, 'lat': 40.534392}, 57.0, 8, 59.0, 9, 'coger :Calle de la Fragua', {'id': '-tgl32s3br3h1md', 'size': {'w': 300, 'h': 300}}, ''], [4, 1, {'lon': -3.481172, 'lat': 40.533958}, 205.0, 24, 264.0, 33, 'Girar a la izquierda:Calle de la Paloma', {'id': '-twxj31w4q3h1md', 'size': {'w': 300, 'h': 300}}, 'pictoLeft'], [5, 1, {'lon': -3.479211, 'lat': 40.533091}, 949.0, 92, 1213.0, 125, 'Girar a la izquierda:M-113', {'id': '-t83c6u8aq3h1md', 'size': {'w': 300, 'h': 300}}, 'pictoLeft'], [6, 1, {'lon': -3.47181, 'lat': 40.538693}, 16.0, 1, 1229.0, 126, 'Seguir todo recto', {'id': '-tghc6z4zs3h1md', 'size': {'w': 300, 'h': 300}}, ''], [7, 1, {'lon': -3.471689, 'lat': 40.538585}, 8653.0, 444, 9882.0, 570, 'En la rotonda, tomar la salida 1 continuar en M-100,  en dirección: Alcala, R-2, A-2, Zaragoza', {'id': '-t4o5493zs3h1md', 'size': {'w': 300, 'h': 300}}, 'pictoExpress'], [7, 2, {'lon': -3.469566, 'lat': 40.535365}, 0.0, 0, 1636.0, 149, 'Pasar cerca de Daganzo de Arriba', None, ''], [7, 2, {'lon': -3.416027, 'lat': 40.524195}, 0.0, 0, 6660.0, 394, 'Pasar cerca de Camarma de Esteruelas', None, ''], [7, 2, {'lon': -3.40429, 'lat': 40.51173}, 0.0, 0, 8376.0, 460, 'Tome la salida en dirección:4, Alcalá de Henares (centro), Polígono Industrial', None, 'pictoExit'], [7, 2, {'lon': -3.398504, 'lat': 40.503189}, 0.0, 0, 9446.0, 528, '', None, ''], [7, 2, {'lon': -3.398504, 'lat': 40.503189}, 0.0, 0, 9446.0, 528, '', None, ''], [8, 1, {'lon': -3.396394, 'lat': 40.500506}, 1245.0, 85, 11127.0, 655, 'En la rotonda, tomar la salida 1 continuar en Avenida de Daganzo,  en dirección: Alcalá de Henares', {'id': '-tw5q9o7h41h1md', 'size': {'w': 300, 'h': 300}}, 'pictoRA'], [8, 2, {'lon': -3.389717, 'lat': 40.497594}, 0.0, 0, 10575.0, 612, '', None, ''], [9, 1, {'lon': -3.384206, 'lat': 40.495058}, 3560.0, 467, 14687.0, 1122, 'Entrar en Alcalá de Henares', {'id': '-t8nv2muqo0h1md', 'size': {'w': 300, 'h': 300}}, ''], [9, 2, {'lon': -3.384206, 'lat': 40.495058}, 1408.0, 152, 12535.0, 807, 'Continuar en: Avenida de Daganzo', None, ''], [9, 2, {'lon': -3.372415, 'lat': 40.48714}, 414.0, 43, 12949.0, 850, 'coger :Calle de Luis de Astrana Marín', None, ''], [9, 2, {'lon': -3.369085, 'lat': 40.484418}, 654.0, 80, 13603.0, 930, 'En la rotonda, tomar la salida 2 continuar en Calle Vía Complutense, ', None, 'pictoRA'], [9, 2, {'lon': -3.367765, 'lat': 40.484399}, 0.0, 0, 13094.0, 868, '', None, ''], [9, 2, {'lon': -3.3622, 'lat': 40.485833}, 113.0, 16, 13716.0, 946, 'En la rotonda, tomar la salida 1 continuar en Calle de Sebastián de la Plaza, ', None, 'pictoRA'], [9, 2, {'lon': -3.361306, 'lat': 40.485131}, 342.0, 46, 14058.0, 992, 'En la rotonda, tomar la salida 1 continuar en Calle de la Azucena, ', None, 'pictoRA'], [9, 2, {'lon': -3.358959, 'lat': 40.483016}, 127.0, 17, 14185.0, 1009, 'Girar a la derecha: Calle de Giner de los Ríos', None, 'pictoRight'], [9, 2, {'lon': -3.358802, 'lat': 40.481876}, 450.0, 67, 14635.0, 1076, 'En la rotonda, tomar la salida 1 continuar en Calle de los Colegios, ', None, 'pictoRA'], [9, 2, {'lon': -3.358994, 'lat': 40.481846}, 0.0, 0, 14202.0, 1011, '', None, ''], [9, 2, {'lon': -3.364013, 'lat': 40.48121}, 52.0, 46, 14687.0, 1122, 'Girar a la derecha: Plaza de Rodríguez Marín', None, 'pictoPedestrian'], [10, 1, {'lon': -3.364136, 'lat': 40.481663}, 0.0, 0, 14687.0, 1122, 'Llegada: Calle de las Escuelas, Alcalá de Henares', {'id': '-tc69hdpbn1h1md', 'size': {'w': 300, 'h': 300}}, '']]]}}\n"
          ]
        }
      ],
      "source": [
        "distancias = [] \n",
        "tiempos = []\n",
        "carreteras = []\n",
        "\n",
        "for peticion in peticiones:\n",
        "  \n",
        "  ruta = json.loads(peticion[5:(len(peticion)-1)])\n",
        "  path = ruta['iti']['header']['summaries']\n",
        "  for ruta in path:\n",
        "    distancias.append(ruta['drivingDist'])\n",
        "    tiempos.append(ruta['drivingTime'])\n",
        "    carreteras.append(','.join(ruta['names']))\n",
        "    \n",
        "df_tarjeta['distancia'] = distancias\n",
        "df_tarjeta['tiempo'] = tiempos\n",
        "df_tarjeta['carreteras'] = carreteras\n",
        "\n",
        "ruta = json.loads(peticiones[0][5:(len(peticiones[0])-1)])\n",
        "print(ruta)\n",
        "#df_tarjeta.to_csv('pre_tarjeta', sep='\\t', encoding='utf-8')"
      ]
    },
    {
      "cell_type": "markdown",
      "metadata": {
        "id": "ZHqq5EkIwYyH"
      },
      "source": [
        "Ahora se procede a añadir el número de tramos (diferentes carreteras) que es necesario tomar para llegar a un destino: "
      ]
    },
    {
      "cell_type": "code",
      "execution_count": null,
      "metadata": {
        "id": "LeVJkdzUw2mL",
        "colab": {
          "base_uri": "https://localhost:8080/",
          "height": 205
        },
        "outputId": "4f878ebb-4363-4ffe-f464-9d8388463ee2"
      },
      "outputs": [
        {
          "output_type": "execute_result",
          "data": {
            "text/html": [
              "\n",
              "  <div id=\"df-30798709-7a89-4238-bfeb-ee8646d31b1e\">\n",
              "    <div class=\"colab-df-container\">\n",
              "      <div>\n",
              "<style scoped>\n",
              "    .dataframe tbody tr th:only-of-type {\n",
              "        vertical-align: middle;\n",
              "    }\n",
              "\n",
              "    .dataframe tbody tr th {\n",
              "        vertical-align: top;\n",
              "    }\n",
              "\n",
              "    .dataframe thead th {\n",
              "        text-align: right;\n",
              "    }\n",
              "</style>\n",
              "<table border=\"1\" class=\"dataframe\">\n",
              "  <thead>\n",
              "    <tr style=\"text-align: right;\">\n",
              "      <th></th>\n",
              "      <th>origen</th>\n",
              "      <th>destino</th>\n",
              "      <th>a_ofertados</th>\n",
              "      <th>v_ofertados</th>\n",
              "      <th>distancia</th>\n",
              "      <th>tiempo</th>\n",
              "      <th>carreteras</th>\n",
              "      <th>n_tramos</th>\n",
              "    </tr>\n",
              "  </thead>\n",
              "  <tbody>\n",
              "    <tr>\n",
              "      <th>0</th>\n",
              "      <td>Ajalvir</td>\n",
              "      <td>Alcalá de Henares</td>\n",
              "      <td>2.5</td>\n",
              "      <td>1.0</td>\n",
              "      <td>14687.0</td>\n",
              "      <td>1122.0</td>\n",
              "      <td>M-100,Avenida de Daganzo</td>\n",
              "      <td>2</td>\n",
              "    </tr>\n",
              "    <tr>\n",
              "      <th>1</th>\n",
              "      <td>Ajalvir</td>\n",
              "      <td>Algete</td>\n",
              "      <td>3.0</td>\n",
              "      <td>1.0</td>\n",
              "      <td>9353.0</td>\n",
              "      <td>709.0</td>\n",
              "      <td>M-114,M-118,M-103</td>\n",
              "      <td>3</td>\n",
              "    </tr>\n",
              "    <tr>\n",
              "      <th>2</th>\n",
              "      <td>Ajalvir</td>\n",
              "      <td>Arganda del Rey</td>\n",
              "      <td>3.0</td>\n",
              "      <td>1.0</td>\n",
              "      <td>36872.0</td>\n",
              "      <td>1943.0</td>\n",
              "      <td>M-50,R-3</td>\n",
              "      <td>2</td>\n",
              "    </tr>\n",
              "    <tr>\n",
              "      <th>3</th>\n",
              "      <td>Ajalvir</td>\n",
              "      <td>Brunete</td>\n",
              "      <td>3.0</td>\n",
              "      <td>1.0</td>\n",
              "      <td>58267.0</td>\n",
              "      <td>3414.0</td>\n",
              "      <td>R-2,M-40,M-513</td>\n",
              "      <td>3</td>\n",
              "    </tr>\n",
              "    <tr>\n",
              "      <th>4</th>\n",
              "      <td>Ajalvir</td>\n",
              "      <td>Cobeña</td>\n",
              "      <td>1.5</td>\n",
              "      <td>1.0</td>\n",
              "      <td>5197.0</td>\n",
              "      <td>420.0</td>\n",
              "      <td>M-114</td>\n",
              "      <td>1</td>\n",
              "    </tr>\n",
              "  </tbody>\n",
              "</table>\n",
              "</div>\n",
              "      <button class=\"colab-df-convert\" onclick=\"convertToInteractive('df-30798709-7a89-4238-bfeb-ee8646d31b1e')\"\n",
              "              title=\"Convert this dataframe to an interactive table.\"\n",
              "              style=\"display:none;\">\n",
              "        \n",
              "  <svg xmlns=\"http://www.w3.org/2000/svg\" height=\"24px\"viewBox=\"0 0 24 24\"\n",
              "       width=\"24px\">\n",
              "    <path d=\"M0 0h24v24H0V0z\" fill=\"none\"/>\n",
              "    <path d=\"M18.56 5.44l.94 2.06.94-2.06 2.06-.94-2.06-.94-.94-2.06-.94 2.06-2.06.94zm-11 1L8.5 8.5l.94-2.06 2.06-.94-2.06-.94L8.5 2.5l-.94 2.06-2.06.94zm10 10l.94 2.06.94-2.06 2.06-.94-2.06-.94-.94-2.06-.94 2.06-2.06.94z\"/><path d=\"M17.41 7.96l-1.37-1.37c-.4-.4-.92-.59-1.43-.59-.52 0-1.04.2-1.43.59L10.3 9.45l-7.72 7.72c-.78.78-.78 2.05 0 2.83L4 21.41c.39.39.9.59 1.41.59.51 0 1.02-.2 1.41-.59l7.78-7.78 2.81-2.81c.8-.78.8-2.07 0-2.86zM5.41 20L4 18.59l7.72-7.72 1.47 1.35L5.41 20z\"/>\n",
              "  </svg>\n",
              "      </button>\n",
              "      \n",
              "  <style>\n",
              "    .colab-df-container {\n",
              "      display:flex;\n",
              "      flex-wrap:wrap;\n",
              "      gap: 12px;\n",
              "    }\n",
              "\n",
              "    .colab-df-convert {\n",
              "      background-color: #E8F0FE;\n",
              "      border: none;\n",
              "      border-radius: 50%;\n",
              "      cursor: pointer;\n",
              "      display: none;\n",
              "      fill: #1967D2;\n",
              "      height: 32px;\n",
              "      padding: 0 0 0 0;\n",
              "      width: 32px;\n",
              "    }\n",
              "\n",
              "    .colab-df-convert:hover {\n",
              "      background-color: #E2EBFA;\n",
              "      box-shadow: 0px 1px 2px rgba(60, 64, 67, 0.3), 0px 1px 3px 1px rgba(60, 64, 67, 0.15);\n",
              "      fill: #174EA6;\n",
              "    }\n",
              "\n",
              "    [theme=dark] .colab-df-convert {\n",
              "      background-color: #3B4455;\n",
              "      fill: #D2E3FC;\n",
              "    }\n",
              "\n",
              "    [theme=dark] .colab-df-convert:hover {\n",
              "      background-color: #434B5C;\n",
              "      box-shadow: 0px 1px 3px 1px rgba(0, 0, 0, 0.15);\n",
              "      filter: drop-shadow(0px 1px 2px rgba(0, 0, 0, 0.3));\n",
              "      fill: #FFFFFF;\n",
              "    }\n",
              "  </style>\n",
              "\n",
              "      <script>\n",
              "        const buttonEl =\n",
              "          document.querySelector('#df-30798709-7a89-4238-bfeb-ee8646d31b1e button.colab-df-convert');\n",
              "        buttonEl.style.display =\n",
              "          google.colab.kernel.accessAllowed ? 'block' : 'none';\n",
              "\n",
              "        async function convertToInteractive(key) {\n",
              "          const element = document.querySelector('#df-30798709-7a89-4238-bfeb-ee8646d31b1e');\n",
              "          const dataTable =\n",
              "            await google.colab.kernel.invokeFunction('convertToInteractive',\n",
              "                                                     [key], {});\n",
              "          if (!dataTable) return;\n",
              "\n",
              "          const docLinkHtml = 'Like what you see? Visit the ' +\n",
              "            '<a target=\"_blank\" href=https://colab.research.google.com/notebooks/data_table.ipynb>data table notebook</a>'\n",
              "            + ' to learn more about interactive tables.';\n",
              "          element.innerHTML = '';\n",
              "          dataTable['output_type'] = 'display_data';\n",
              "          await google.colab.output.renderOutput(dataTable, element);\n",
              "          const docLink = document.createElement('div');\n",
              "          docLink.innerHTML = docLinkHtml;\n",
              "          element.appendChild(docLink);\n",
              "        }\n",
              "      </script>\n",
              "    </div>\n",
              "  </div>\n",
              "  "
            ],
            "text/plain": [
              "    origen            destino  ...                carreteras  n_tramos\n",
              "0  Ajalvir  Alcalá de Henares  ...  M-100,Avenida de Daganzo         2\n",
              "1  Ajalvir             Algete  ...         M-114,M-118,M-103         3\n",
              "2  Ajalvir    Arganda del Rey  ...                  M-50,R-3         2\n",
              "3  Ajalvir            Brunete  ...            R-2,M-40,M-513         3\n",
              "4  Ajalvir             Cobeña  ...                     M-114         1\n",
              "\n",
              "[5 rows x 8 columns]"
            ]
          },
          "metadata": {},
          "execution_count": 82
        }
      ],
      "source": [
        "lista_tramos = []\n",
        "\n",
        "for seccion in df_tarjeta['carreteras'].values:\n",
        "  lista_tramos.append(len(seccion.split(',')))\n",
        "\n",
        "df_tarjeta['n_tramos'] = lista_tramos\n",
        "\n",
        "df_tarjeta.head()"
      ]
    },
    {
      "cell_type": "markdown",
      "metadata": {
        "id": "w7hGaqqim3f2"
      },
      "source": [
        "Finalmente, se indica que viajes tienen una zona de concentración de accidentes. Para esto se ha obtenido un pequeño CSV copiado a mano (ya que solo son 15 registros) de http://mapamovilidad.dgt.es/home.htm y se compara con las carreteras de cada viaje:"
      ]
    },
    {
      "cell_type": "code",
      "execution_count": null,
      "metadata": {
        "id": "z0SPg_RenADJ"
      },
      "outputs": [],
      "source": [
        "df_accidentes = pd.read_csv('concentracion_accidentes.csv',sep=';')\n",
        "\n",
        "df_accidentes = df_accidentes.drop_duplicates(subset=['carretera'])\n",
        "\n",
        "accidentes_dic = {}\n",
        "lista_accidentes = []\n",
        "\n",
        "for elemento in df_accidentes['carretera'].values:\n",
        "  accidentes_dic[elemento] = \"\"\n",
        "\n",
        "for seccion in df_tarjeta['carreteras'].values:\n",
        "  accidente = False\n",
        "  for carretera in seccion.split(','):\n",
        "    if carretera in accidentes_dic:\n",
        "      accidente = True\n",
        "  if accidente:\n",
        "    lista_accidentes.append(\"si\")\n",
        "  else:\n",
        "    lista_accidentes.append(\"no\")\n",
        "\n",
        "\n",
        "df_tarjeta['riesgo'] = lista_accidentes\n"
      ]
    },
    {
      "cell_type": "markdown",
      "source": [
        "Se añade la velocidad media:"
      ],
      "metadata": {
        "id": "VXzGwqrn276o"
      }
    },
    {
      "cell_type": "code",
      "source": [
        "df_tarjeta['velocidad_media'] = (df_tarjeta['distancia']/1000)/(df_tarjeta['tiempo']/3600)\n",
        "df_tarjeta.head()"
      ],
      "metadata": {
        "colab": {
          "base_uri": "https://localhost:8080/",
          "height": 205
        },
        "id": "8Pj2PRNR2963",
        "outputId": "1dabb8b9-449f-4ad5-dd42-9ed2aad30460"
      },
      "execution_count": null,
      "outputs": [
        {
          "output_type": "execute_result",
          "data": {
            "text/html": [
              "\n",
              "  <div id=\"df-b90fb1f6-656b-498f-ad6e-24316da5ed9b\">\n",
              "    <div class=\"colab-df-container\">\n",
              "      <div>\n",
              "<style scoped>\n",
              "    .dataframe tbody tr th:only-of-type {\n",
              "        vertical-align: middle;\n",
              "    }\n",
              "\n",
              "    .dataframe tbody tr th {\n",
              "        vertical-align: top;\n",
              "    }\n",
              "\n",
              "    .dataframe thead th {\n",
              "        text-align: right;\n",
              "    }\n",
              "</style>\n",
              "<table border=\"1\" class=\"dataframe\">\n",
              "  <thead>\n",
              "    <tr style=\"text-align: right;\">\n",
              "      <th></th>\n",
              "      <th>origen</th>\n",
              "      <th>destino</th>\n",
              "      <th>a_ofertados</th>\n",
              "      <th>v_ofertados</th>\n",
              "      <th>distancia</th>\n",
              "      <th>tiempo</th>\n",
              "      <th>carreteras</th>\n",
              "      <th>n_tramos</th>\n",
              "      <th>riesgo</th>\n",
              "      <th>velocidad_media</th>\n",
              "    </tr>\n",
              "  </thead>\n",
              "  <tbody>\n",
              "    <tr>\n",
              "      <th>0</th>\n",
              "      <td>Ajalvir</td>\n",
              "      <td>Alcalá de Henares</td>\n",
              "      <td>2.5</td>\n",
              "      <td>1.0</td>\n",
              "      <td>14687.0</td>\n",
              "      <td>1122.0</td>\n",
              "      <td>M-100,Avenida de Daganzo</td>\n",
              "      <td>2</td>\n",
              "      <td>no</td>\n",
              "      <td>47.12</td>\n",
              "    </tr>\n",
              "    <tr>\n",
              "      <th>1</th>\n",
              "      <td>Ajalvir</td>\n",
              "      <td>Algete</td>\n",
              "      <td>3.0</td>\n",
              "      <td>1.0</td>\n",
              "      <td>9353.0</td>\n",
              "      <td>709.0</td>\n",
              "      <td>M-114,M-118,M-103</td>\n",
              "      <td>3</td>\n",
              "      <td>no</td>\n",
              "      <td>47.49</td>\n",
              "    </tr>\n",
              "    <tr>\n",
              "      <th>2</th>\n",
              "      <td>Ajalvir</td>\n",
              "      <td>Arganda del Rey</td>\n",
              "      <td>3.0</td>\n",
              "      <td>1.0</td>\n",
              "      <td>36872.0</td>\n",
              "      <td>1943.0</td>\n",
              "      <td>M-50,R-3</td>\n",
              "      <td>2</td>\n",
              "      <td>si</td>\n",
              "      <td>68.32</td>\n",
              "    </tr>\n",
              "    <tr>\n",
              "      <th>3</th>\n",
              "      <td>Ajalvir</td>\n",
              "      <td>Brunete</td>\n",
              "      <td>3.0</td>\n",
              "      <td>1.0</td>\n",
              "      <td>58267.0</td>\n",
              "      <td>3414.0</td>\n",
              "      <td>R-2,M-40,M-513</td>\n",
              "      <td>3</td>\n",
              "      <td>si</td>\n",
              "      <td>61.44</td>\n",
              "    </tr>\n",
              "    <tr>\n",
              "      <th>4</th>\n",
              "      <td>Ajalvir</td>\n",
              "      <td>Cobeña</td>\n",
              "      <td>1.5</td>\n",
              "      <td>1.0</td>\n",
              "      <td>5197.0</td>\n",
              "      <td>420.0</td>\n",
              "      <td>M-114</td>\n",
              "      <td>1</td>\n",
              "      <td>no</td>\n",
              "      <td>44.55</td>\n",
              "    </tr>\n",
              "  </tbody>\n",
              "</table>\n",
              "</div>\n",
              "      <button class=\"colab-df-convert\" onclick=\"convertToInteractive('df-b90fb1f6-656b-498f-ad6e-24316da5ed9b')\"\n",
              "              title=\"Convert this dataframe to an interactive table.\"\n",
              "              style=\"display:none;\">\n",
              "        \n",
              "  <svg xmlns=\"http://www.w3.org/2000/svg\" height=\"24px\"viewBox=\"0 0 24 24\"\n",
              "       width=\"24px\">\n",
              "    <path d=\"M0 0h24v24H0V0z\" fill=\"none\"/>\n",
              "    <path d=\"M18.56 5.44l.94 2.06.94-2.06 2.06-.94-2.06-.94-.94-2.06-.94 2.06-2.06.94zm-11 1L8.5 8.5l.94-2.06 2.06-.94-2.06-.94L8.5 2.5l-.94 2.06-2.06.94zm10 10l.94 2.06.94-2.06 2.06-.94-2.06-.94-.94-2.06-.94 2.06-2.06.94z\"/><path d=\"M17.41 7.96l-1.37-1.37c-.4-.4-.92-.59-1.43-.59-.52 0-1.04.2-1.43.59L10.3 9.45l-7.72 7.72c-.78.78-.78 2.05 0 2.83L4 21.41c.39.39.9.59 1.41.59.51 0 1.02-.2 1.41-.59l7.78-7.78 2.81-2.81c.8-.78.8-2.07 0-2.86zM5.41 20L4 18.59l7.72-7.72 1.47 1.35L5.41 20z\"/>\n",
              "  </svg>\n",
              "      </button>\n",
              "      \n",
              "  <style>\n",
              "    .colab-df-container {\n",
              "      display:flex;\n",
              "      flex-wrap:wrap;\n",
              "      gap: 12px;\n",
              "    }\n",
              "\n",
              "    .colab-df-convert {\n",
              "      background-color: #E8F0FE;\n",
              "      border: none;\n",
              "      border-radius: 50%;\n",
              "      cursor: pointer;\n",
              "      display: none;\n",
              "      fill: #1967D2;\n",
              "      height: 32px;\n",
              "      padding: 0 0 0 0;\n",
              "      width: 32px;\n",
              "    }\n",
              "\n",
              "    .colab-df-convert:hover {\n",
              "      background-color: #E2EBFA;\n",
              "      box-shadow: 0px 1px 2px rgba(60, 64, 67, 0.3), 0px 1px 3px 1px rgba(60, 64, 67, 0.15);\n",
              "      fill: #174EA6;\n",
              "    }\n",
              "\n",
              "    [theme=dark] .colab-df-convert {\n",
              "      background-color: #3B4455;\n",
              "      fill: #D2E3FC;\n",
              "    }\n",
              "\n",
              "    [theme=dark] .colab-df-convert:hover {\n",
              "      background-color: #434B5C;\n",
              "      box-shadow: 0px 1px 3px 1px rgba(0, 0, 0, 0.15);\n",
              "      filter: drop-shadow(0px 1px 2px rgba(0, 0, 0, 0.3));\n",
              "      fill: #FFFFFF;\n",
              "    }\n",
              "  </style>\n",
              "\n",
              "      <script>\n",
              "        const buttonEl =\n",
              "          document.querySelector('#df-b90fb1f6-656b-498f-ad6e-24316da5ed9b button.colab-df-convert');\n",
              "        buttonEl.style.display =\n",
              "          google.colab.kernel.accessAllowed ? 'block' : 'none';\n",
              "\n",
              "        async function convertToInteractive(key) {\n",
              "          const element = document.querySelector('#df-b90fb1f6-656b-498f-ad6e-24316da5ed9b');\n",
              "          const dataTable =\n",
              "            await google.colab.kernel.invokeFunction('convertToInteractive',\n",
              "                                                     [key], {});\n",
              "          if (!dataTable) return;\n",
              "\n",
              "          const docLinkHtml = 'Like what you see? Visit the ' +\n",
              "            '<a target=\"_blank\" href=https://colab.research.google.com/notebooks/data_table.ipynb>data table notebook</a>'\n",
              "            + ' to learn more about interactive tables.';\n",
              "          element.innerHTML = '';\n",
              "          dataTable['output_type'] = 'display_data';\n",
              "          await google.colab.output.renderOutput(dataTable, element);\n",
              "          const docLink = document.createElement('div');\n",
              "          docLink.innerHTML = docLinkHtml;\n",
              "          element.appendChild(docLink);\n",
              "        }\n",
              "      </script>\n",
              "    </div>\n",
              "  </div>\n",
              "  "
            ],
            "text/plain": [
              "    origen            destino  a_ofertados  ...  n_tramos  riesgo  velocidad_media\n",
              "0  Ajalvir  Alcalá de Henares          2.5  ...         2      no            47.12\n",
              "1  Ajalvir             Algete          3.0  ...         3      no            47.49\n",
              "2  Ajalvir    Arganda del Rey          3.0  ...         2      si            68.32\n",
              "3  Ajalvir            Brunete          3.0  ...         3      si            61.44\n",
              "4  Ajalvir             Cobeña          1.5  ...         1      no            44.55\n",
              "\n",
              "[5 rows x 10 columns]"
            ]
          },
          "metadata": {},
          "execution_count": 93
        }
      ]
    },
    {
      "cell_type": "markdown",
      "metadata": {
        "id": "_Zy_FDG5p9kP"
      },
      "source": [
        "Por último, se realizan aproximaciones, se eliminan filas no válidas y se imprime la tarjeta de datos final:"
      ]
    },
    {
      "cell_type": "code",
      "execution_count": null,
      "metadata": {
        "id": "b-PScio8qFeR"
      },
      "outputs": [],
      "source": [
        "df_tarjeta = df_tarjeta.round({\"a_ofertados\":2,\"v_ofertados\":2,\"velocidad_media\":2})\n",
        "df_tarjeta = df_tarjeta[df_tarjeta['origen'] != df_tarjeta['destino']]\n",
        "df_tarjeta.to_csv('tarjeta.csv', sep=';', encoding='utf-8',index=False)"
      ]
    }
  ],
  "metadata": {
    "colab": {
      "collapsed_sections": [],
      "name": "MineríaDeDatos_blablacar.ipynb",
      "provenance": []
    },
    "kernelspec": {
      "display_name": "Python 3",
      "name": "python3"
    },
    "language_info": {
      "name": "python"
    }
  },
  "nbformat": 4,
  "nbformat_minor": 0
}